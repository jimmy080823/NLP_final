{
 "cells": [
  {
   "cell_type": "markdown",
   "metadata": {},
   "source": [
    "## Preprocessing"
   ]
  },
  {
   "cell_type": "code",
   "execution_count": 170,
   "metadata": {},
   "outputs": [
    {
     "name": "stderr",
     "output_type": "stream",
     "text": [
      "[nltk_data] Downloading package stopwords to\n",
      "[nltk_data]     C:\\Users\\USER\\AppData\\Roaming\\nltk_data...\n",
      "[nltk_data]   Package stopwords is already up-to-date!\n",
      "[nltk_data] Downloading package wordnet to\n",
      "[nltk_data]     C:\\Users\\USER\\AppData\\Roaming\\nltk_data...\n",
      "[nltk_data]   Package wordnet is already up-to-date!\n",
      "[nltk_data] Downloading package punkt to\n",
      "[nltk_data]     C:\\Users\\USER\\AppData\\Roaming\\nltk_data...\n",
      "[nltk_data]   Package punkt is already up-to-date!\n"
     ]
    }
   ],
   "source": [
    "import warnings\n",
    "warnings.filterwarnings('ignore')\n",
    "\n",
    "import re\n",
    "import string\n",
    "import os\n",
    "from collections import defaultdict\n",
    "from collections import Counter\n",
    "\n",
    "import pandas as pd\n",
    "import numpy as np\n",
    "\n",
    "import matplotlib.pyplot as plt\n",
    "import seaborn as sns\n",
    "plt.style.use('ggplot')\n",
    "\n",
    "import nltk\n",
    "from nltk.corpus import stopwords, wordnet\n",
    "nltk.download('stopwords')\n",
    "nltk.download('wordnet')\n",
    "from nltk.util import ngrams\n",
    "from nltk.tokenize import word_tokenize\n",
    "from nltk.stem import WordNetLemmatizer\n",
    "nltk.download('punkt')\n",
    "\n",
    "from sklearn.feature_extraction.text import CountVectorizer, TfidfVectorizer\n",
    "\n",
    "from sklearn.model_selection import train_test_split, GridSearchCV\n",
    "from sklearn.ensemble import RandomForestClassifier\n",
    "from sklearn.svm import SVC\n",
    "from sklearn import metrics\n",
    "from sklearn.metrics import classification_report,accuracy_score,roc_auc_score,roc_curve,auc,f1_score,confusion_matrix\n",
    "\n",
    "import gensim\n",
    "from gensim.models import Word2Vec\n",
    "from tqdm.notebook import tqdm\n",
    "\n",
    "from tensorflow.keras.preprocessing.text import Tokenizer\n",
    "from tensorflow.keras.preprocessing.sequence import pad_sequences\n",
    "from tensorflow.keras.models import Sequential, Model\n",
    "from tensorflow.keras.utils import to_categorical\n",
    "from tensorflow.keras.layers import Embedding, LSTM, Dense, Dropout, Input, GRU, BatchNormalization, Conv1D, GlobalMaxPooling1D"
   ]
  },
  {
   "cell_type": "code",
   "execution_count": 171,
   "metadata": {},
   "outputs": [
    {
     "name": "stdout",
     "output_type": "stream",
     "text": [
      "  Label                                            Message\n",
      "0   ham  Go until jurong point, crazy.. Available only ...\n",
      "1   ham                      Ok lar... Joking wif u oni...\n",
      "2  spam  Free entry in 2 a wkly comp to win FA Cup fina...\n",
      "3   ham  U dun say so early hor... U c already then say...\n",
      "4   ham  Nah I don't think he goes to usf, he lives aro...\n",
      "Shape :  (5572, 2) \n",
      "\n",
      "<class 'pandas.core.frame.DataFrame'>\n",
      "RangeIndex: 5572 entries, 0 to 5571\n",
      "Data columns (total 2 columns):\n",
      " #   Column   Non-Null Count  Dtype \n",
      "---  ------   --------------  ----- \n",
      " 0   Label    5572 non-null   object\n",
      " 1   Message  5572 non-null   object\n",
      "dtypes: object(2)\n",
      "memory usage: 87.2+ KB\n",
      "None\n",
      "\n",
      " Class distribution : Label\n",
      "ham     4825\n",
      "spam     747\n",
      "Name: count, dtype: int64\n"
     ]
    }
   ],
   "source": [
    "df = pd.read_csv('SpamVsHam.tsv', delimiter='\\t', header=None, names=['Label', 'Message'])\n",
    "print(df.head())\n",
    "print(\"Shape : \", df.shape, \"\\n\")\n",
    "print(df.info())\n",
    "print(\"\\n Class distribution :\", df['Label'].value_counts())\n",
    "\n",
    "##?? we should have 4827 ham data, right? At least the pdf says.\n",
    "##but only have 4825"
   ]
  },
  {
   "cell_type": "code",
   "execution_count": 172,
   "metadata": {},
   "outputs": [
    {
     "name": "stdout",
     "output_type": "stream",
     "text": [
      "Cleaned text:   Label                                            Message\n",
      "0   ham  go jurong point crazy available bugis n great ...\n",
      "1   ham                            ok lar joking wif u oni\n",
      "2  spam  free entry 2 wkly comp win fa cup final tkts 2...\n",
      "3   ham                u dun say early hor u c already say\n",
      "4   ham        nah dont think goes usf lives around though\n"
     ]
    }
   ],
   "source": [
    "## preprocess\n",
    "def preprocess(text):\n",
    "    text = text.lower()\n",
    "    text = text.translate(str.maketrans('', '', string.punctuation))\n",
    "    tokens = word_tokenize(text)\n",
    "\n",
    "    stop = set(stopwords.words('english'))\n",
    "    tokens = [word for word in tokens if word not in stop]\n",
    "\n",
    "    text = ' '.join(tokens)\n",
    "    return text\n",
    "\n",
    "df['Message'] = df['Message'].apply(preprocess)\n",
    "\n",
    "print(\"Cleaned text:\", df.head())"
   ]
  },
  {
   "cell_type": "markdown",
   "metadata": {},
   "source": [
    "## Feature Extraction Techniques"
   ]
  },
  {
   "cell_type": "code",
   "execution_count": 173,
   "metadata": {},
   "outputs": [
    {
     "name": "stdout",
     "output_type": "stream",
     "text": [
      "TF-IDF shape: (5572, 5000)\n"
     ]
    }
   ],
   "source": [
    "#TF-IDF\n",
    "tfidf_vectorizer = TfidfVectorizer(max_features=5000)\n",
    "X_tfidf = tfidf_vectorizer.fit_transform(df['Message']).toarray()\n",
    "\n",
    "print(\"TF-IDF shape:\", X_tfidf.shape)"
   ]
  },
  {
   "cell_type": "code",
   "execution_count": 174,
   "metadata": {},
   "outputs": [
    {
     "name": "stdout",
     "output_type": "stream",
     "text": [
      "Word2Vec shape: (5572, 100)\n"
     ]
    }
   ],
   "source": [
    "#Word2Vec\n",
    "TokenTexts = df['Message'].apply(word_tokenize)\n",
    "word2vec_model = Word2Vec(sentences=TokenTexts, vector_size=100, window=5, min_count=1, workers=2)\n",
    "#Try relatively default parameters for word2vec.\n",
    "\n",
    "def vectorize(text, model):\n",
    "    vector = np.zeros(model.vector_size)\n",
    "    n_words = 0\n",
    "\n",
    "    for word in word_tokenize(text):\n",
    "        if word in model.wv:\n",
    "            vector += model.wv[word]\n",
    "            n_words += 1\n",
    "\n",
    "    if n_words > 0:\n",
    "        vector /= n_words \n",
    "    return vector\n",
    "\n",
    "X_word2vec = np.array([vectorize(text, word2vec_model) for text in df['Message']])\n",
    "print(\"Word2Vec shape:\", X_word2vec.shape)"
   ]
  },
  {
   "cell_type": "markdown",
   "metadata": {},
   "source": [
    "## Modeling: Random Forest (TF-IDF)"
   ]
  },
  {
   "cell_type": "code",
   "execution_count": 91,
   "metadata": {},
   "outputs": [
    {
     "name": "stdout",
     "output_type": "stream",
     "text": [
      "Unique labels after conversion: [0 1]\n",
      "Unique classes in y_train: [0 1]\n",
      "Unique classes in y_test: [0 1]\n"
     ]
    }
   ],
   "source": [
    "X = X_tfidf  \n",
    "y = df['Label'].apply(lambda x: 1 if x == 'spam' else 0) \n",
    "print(\"Unique labels after conversion:\", np.unique(y))\n",
    "\n",
    "X_train, X_test, y_train, y_test = train_test_split(X, y, test_size=0.3, random_state=1, stratify=y)\n",
    "\n",
    "unique_classes_train = np.unique(y_train)\n",
    "unique_classes_test = np.unique(y_test)\n",
    "print(\"Unique classes in y_train:\", unique_classes_train)\n",
    "print(\"Unique classes in y_test:\", unique_classes_test) "
   ]
  },
  {
   "cell_type": "code",
   "execution_count": 92,
   "metadata": {},
   "outputs": [
    {
     "name": "stdout",
     "output_type": "stream",
     "text": [
      "Accuracy: 0.9736842105263158\n",
      "\n",
      "Classification Report:\n",
      "               precision    recall  f1-score   support\n",
      "\n",
      "           0       0.97      1.00      0.99      1448\n",
      "           1       1.00      0.80      0.89       224\n",
      "\n",
      "    accuracy                           0.97      1672\n",
      "   macro avg       0.99      0.90      0.94      1672\n",
      "weighted avg       0.97      0.97      0.97      1672\n",
      "\n"
     ]
    }
   ],
   "source": [
    "rf_classifier = RandomForestClassifier(n_estimators=37, criterion = 'entropy', random_state=1)\n",
    "rf_classifier.fit(X_train, y_train)\n",
    "\n",
    "y_pred = rf_classifier.predict(X_test)\n",
    "\n",
    "accuracy = accuracy_score(y_test, y_pred)\n",
    "print(\"Accuracy:\", accuracy)\n",
    "print(\"\\nClassification Report:\\n\", classification_report(y_test, y_pred))\n",
    "#estimator= 100 => 97.67%\n",
    "#estimator= 37 => 97.67%"
   ]
  },
  {
   "cell_type": "code",
   "execution_count": 13,
   "metadata": {},
   "outputs": [
    {
     "data": {
      "image/png": "[encoded data removed]",
      "text/plain": [
       "<Figure size 1000x700 with 2 Axes>"
      ]
     },
     "metadata": {},
     "output_type": "display_data"
    },
    {
     "data": {
      "text/plain": [
       "0.9736842105263158"
      ]
     },
     "execution_count": 13,
     "metadata": {},
     "output_type": "execute_result"
    }
   ],
   "source": [
    "cm = confusion_matrix(y_test, y_pred)\n",
    "\n",
    "\n",
    "# Plotting\n",
    "plt.figure(figsize=(10, 7))\n",
    "sns.heatmap(cm, annot=True,cmap='Oranges', fmt='g')\n",
    "plt.title('Random Forest(TF-IDF) Confusion Matrix for Predictive Model', fontsize=16)\n",
    "plt.ylabel('Actual', fontsize=14)\n",
    "plt.xlabel('Predicted', fontsize=14)\n",
    "plt.show()\n",
    "accuracy_score(y_test, y_pred)"
   ]
  },
  {
   "cell_type": "code",
   "execution_count": 54,
   "metadata": {},
   "outputs": [],
   "source": [
    "n_estimators_range = range(1, 151) \n",
    "scores = []\n",
    "for n_estimators in n_estimators_range:\n",
    "    model = RandomForestClassifier(n_estimators = n_estimators, criterion = 'entropy',random_state=1)\n",
    "    model.fit(X_train, y_train)\n",
    "    y_pred = model.predict(X_test)\n",
    "    score = accuracy_score(y_test, y_pred)\n",
    "    scores.append(score)"
   ]
  },
  {
   "cell_type": "code",
   "execution_count": 55,
   "metadata": {},
   "outputs": [
    {
     "data": {
      "image/png": "[encoded data removed]",
      "text/plain": [
       "<Figure size 640x480 with 1 Axes>"
      ]
     },
     "metadata": {},
     "output_type": "display_data"
    }
   ],
   "source": [
    "plt.plot(n_estimators_range, scores)\n",
    "plt.xlabel('Number of Estimators')\n",
    "plt.ylabel('Accuracy Score')\n",
    "plt.title('Accuracy vs Number of Estimators')\n",
    "plt.show()"
   ]
  },
  {
   "cell_type": "code",
   "execution_count": 57,
   "metadata": {},
   "outputs": [
    {
     "name": "stdout",
     "output_type": "stream",
     "text": [
      "The best number of estimators is: 37\n"
     ]
    }
   ],
   "source": [
    "parameter = {'n_estimators': range(5, 41)}\n",
    "model = RandomForestClassifier(criterion='entropy', random_state=1)\n",
    "grid_search = GridSearchCV(estimator=model, param_grid=parameter, cv=5, scoring='accuracy')\n",
    "grid_search.fit(X_train, y_train)\n",
    "best_n_estimators = grid_search.best_estimator_.get_params()['n_estimators']\n",
    "print(f\"The best number of estimators is: {best_n_estimators}\")\n"
   ]
  },
  {
   "cell_type": "markdown",
   "metadata": {},
   "source": [
    "## Modeling: Random Forest (Word2Vec)"
   ]
  },
  {
   "cell_type": "code",
   "execution_count": 102,
   "metadata": {},
   "outputs": [
    {
     "name": "stdout",
     "output_type": "stream",
     "text": [
      "Accuracy: 0.94377990430622\n",
      "\n",
      "Classification Report:\n",
      "               precision    recall  f1-score   support\n",
      "\n",
      "           0       0.94      1.00      0.97      1448\n",
      "           1       0.98      0.59      0.74       224\n",
      "\n",
      "    accuracy                           0.94      1672\n",
      "   macro avg       0.96      0.80      0.85      1672\n",
      "weighted avg       0.95      0.94      0.94      1672\n",
      "\n"
     ]
    }
   ],
   "source": [
    "X = X_word2vec\n",
    "y = df['Label'].apply(lambda x: 1 if x == 'spam' else 0) \n",
    "X_train, X_test, y_train, y_test = train_test_split(X, y, test_size=0.3, random_state=1, stratify=y)\n",
    "\n",
    "rf_classifier = RandomForestClassifier(n_estimators=47, criterion = 'entropy', random_state=1) \n",
    "rf_classifier.fit(X_train, y_train)\n",
    "\n",
    "y_pred = rf_classifier.predict(X_test)\n",
    "\n",
    "accuracy = accuracy_score(y_test, y_pred)\n",
    "print(\"Accuracy:\", accuracy)\n",
    "print(\"\\nClassification Report:\\n\", classification_report(y_test, y_pred))\n",
    "#estimators = 100 => 94.85%\n",
    "#estimators = 47  => 94.8%"
   ]
  },
  {
   "cell_type": "code",
   "execution_count": 16,
   "metadata": {},
   "outputs": [],
   "source": [
    "n_estimators_range = range(1, 151) \n",
    "scores = []\n",
    "for n_estimators in n_estimators_range:\n",
    "    model = RandomForestClassifier(n_estimators = n_estimators, criterion = 'entropy',random_state=1)\n",
    "    model.fit(X_train, y_train)\n",
    "    y_pred = model.predict(X_test)\n",
    "    score = accuracy_score(y_test, y_pred)\n",
    "    scores.append(score)"
   ]
  },
  {
   "cell_type": "code",
   "execution_count": 17,
   "metadata": {},
   "outputs": [
    {
     "data": {
      "image/png": "[encoded data removed]",
      "text/plain": [
       "<Figure size 640x480 with 1 Axes>"
      ]
     },
     "metadata": {},
     "output_type": "display_data"
    }
   ],
   "source": [
    "plt.plot(n_estimators_range, scores)\n",
    "plt.xlabel('Number of Estimators')\n",
    "plt.ylabel('Accuracy Score')\n",
    "plt.title('Accuracy vs Number of Estimators')\n",
    "plt.show()"
   ]
  },
  {
   "cell_type": "code",
   "execution_count": 18,
   "metadata": {},
   "outputs": [
    {
     "name": "stdout",
     "output_type": "stream",
     "text": [
      "The best number of estimators is: 47\n"
     ]
    }
   ],
   "source": [
    "\n",
    "parameter = {'n_estimators': range(20, 50)}\n",
    "model = RandomForestClassifier(criterion='entropy', random_state=1)\n",
    "grid_search = GridSearchCV(estimator=model, param_grid=parameter, cv=5, scoring='accuracy')\n",
    "grid_search.fit(X_train, y_train)\n",
    "best_n_estimators = grid_search.best_estimator_.get_params()['n_estimators']\n",
    "print(f\"The best number of estimators is: {best_n_estimators}\")\n"
   ]
  },
  {
   "cell_type": "code",
   "execution_count": 21,
   "metadata": {},
   "outputs": [
    {
     "data": {
      "image/png": "[encoded data removed]",
      "text/plain": [
       "<Figure size 1000x700 with 2 Axes>"
      ]
     },
     "metadata": {},
     "output_type": "display_data"
    },
    {
     "data": {
      "text/plain": [
       "0.9479665071770335"
      ]
     },
     "execution_count": 21,
     "metadata": {},
     "output_type": "execute_result"
    }
   ],
   "source": [
    "cm = confusion_matrix(y_test, y_pred)\n",
    "\n",
    "\n",
    "# Plotting\n",
    "plt.figure(figsize=(10, 7))\n",
    "sns.heatmap(cm, annot=True,cmap='Blues', fmt='g')\n",
    "plt.title('Random Forest(TF-IDF) Confusion Matrix for Predictive Model', fontsize=16)\n",
    "plt.ylabel('Actual', fontsize=14)\n",
    "plt.xlabel('Predicted', fontsize=14)\n",
    "plt.show()\n",
    "accuracy_score(y_test, y_pred)"
   ]
  },
  {
   "cell_type": "code",
   "execution_count": 34,
   "metadata": {},
   "outputs": [],
   "source": [
    "tokenizer = Tokenizer()\n",
    "tokenizer.fit_on_texts(df['Message'])\n",
    "sequences = tokenizer.texts_to_sequences(df['Message'])\n",
    "max_length = max(len(x) for x in sequences)  \n",
    "X_padded = pad_sequences(sequences, maxlen=max_length, padding='post')\n",
    "\n",
    "y = df['Label'].apply(lambda x: 1 if x == 'spam' else 0).values\n",
    "\n",
    "X_train, X_test, y_train, y_test = train_test_split(X_padded, y, test_size=0.3, random_state=42, stratify=y)\n"
   ]
  },
  {
   "cell_type": "code",
   "execution_count": 24,
   "metadata": {},
   "outputs": [
    {
     "name": "stdout",
     "output_type": "stream",
     "text": [
      "WARNING:tensorflow:From c:\\Users\\USER\\anaconda3\\Lib\\site-packages\\keras\\src\\backend.py:873: The name tf.get_default_graph is deprecated. Please use tf.compat.v1.get_default_graph instead.\n",
      "\n",
      "WARNING:tensorflow:From c:\\Users\\USER\\anaconda3\\Lib\\site-packages\\keras\\src\\optimizers\\__init__.py:309: The name tf.train.Optimizer is deprecated. Please use tf.compat.v1.train.Optimizer instead.\n",
      "\n"
     ]
    }
   ],
   "source": [
    "model = Sequential()\n",
    "model.add(Embedding(input_dim=len(tokenizer.word_index) + 1, output_dim=100, input_length=max_length))\n",
    "model.add(LSTM(128, return_sequences=True))\n",
    "model.add(Dropout(0.2))\n",
    "model.add(LSTM(64))\n",
    "model.add(Dense(1, activation='sigmoid'))\n",
    "\n",
    "model.compile(optimizer='adam', loss='binary_crossentropy', metrics=['accuracy'])\n"
   ]
  },
  {
   "cell_type": "code",
   "execution_count": 25,
   "metadata": {},
   "outputs": [
    {
     "name": "stdout",
     "output_type": "stream",
     "text": [
      "Epoch 1/10\n",
      "WARNING:tensorflow:From c:\\Users\\USER\\anaconda3\\Lib\\site-packages\\keras\\src\\utils\\tf_utils.py:492: The name tf.ragged.RaggedTensorValue is deprecated. Please use tf.compat.v1.ragged.RaggedTensorValue instead.\n",
      "\n",
      "WARNING:tensorflow:From c:\\Users\\USER\\anaconda3\\Lib\\site-packages\\keras\\src\\engine\\base_layer_utils.py:384: The name tf.executing_eagerly_outside_functions is deprecated. Please use tf.compat.v1.executing_eagerly_outside_functions instead.\n",
      "\n",
      "49/49 [==============================] - 7s 82ms/step - loss: 0.4202 - accuracy: 0.8587 - val_loss: 0.4049 - val_accuracy: 0.8628\n",
      "Epoch 2/10\n",
      "49/49 [==============================] - 3s 65ms/step - loss: 0.3941 - accuracy: 0.8667 - val_loss: 0.4009 - val_accuracy: 0.8628\n",
      "Epoch 3/10\n",
      "49/49 [==============================] - 3s 65ms/step - loss: 0.3937 - accuracy: 0.8667 - val_loss: 0.4007 - val_accuracy: 0.8628\n",
      "Epoch 4/10\n",
      "49/49 [==============================] - 3s 62ms/step - loss: 0.3950 - accuracy: 0.8667 - val_loss: 0.4021 - val_accuracy: 0.8628\n",
      "Epoch 5/10\n",
      "49/49 [==============================] - 3s 64ms/step - loss: 0.3950 - accuracy: 0.8667 - val_loss: 0.3998 - val_accuracy: 0.8628\n",
      "Epoch 6/10\n",
      "49/49 [==============================] - 3s 63ms/step - loss: 0.3933 - accuracy: 0.8667 - val_loss: 0.4000 - val_accuracy: 0.8628\n",
      "Epoch 7/10\n",
      "49/49 [==============================] - 3s 63ms/step - loss: 0.3940 - accuracy: 0.8667 - val_loss: 0.3999 - val_accuracy: 0.8628\n",
      "Epoch 8/10\n",
      "49/49 [==============================] - 3s 62ms/step - loss: 0.3931 - accuracy: 0.8667 - val_loss: 0.4006 - val_accuracy: 0.8628\n",
      "Epoch 9/10\n",
      "49/49 [==============================] - 3s 67ms/step - loss: 0.3939 - accuracy: 0.8667 - val_loss: 0.3999 - val_accuracy: 0.8628\n",
      "Epoch 10/10\n",
      "49/49 [==============================] - 3s 65ms/step - loss: 0.3931 - accuracy: 0.8667 - val_loss: 0.4051 - val_accuracy: 0.8628\n"
     ]
    }
   ],
   "source": [
    "history = model.fit(X_train, y_train, epochs=10, batch_size=64, validation_split=0.2)\n"
   ]
  },
  {
   "cell_type": "code",
   "execution_count": 42,
   "metadata": {},
   "outputs": [
    {
     "name": "stdout",
     "output_type": "stream",
     "text": [
      "Epoch 1/10\n",
      "61/61 [==============================] - 1s 3ms/step - loss: 0.7252 - accuracy: 0.6297 - val_loss: 0.7031 - val_accuracy: 0.3379\n",
      "Epoch 2/10\n",
      "61/61 [==============================] - 0s 2ms/step - loss: 0.6707 - accuracy: 0.4859 - val_loss: 0.7183 - val_accuracy: 0.3343\n",
      "Epoch 3/10\n",
      "61/61 [==============================] - 0s 3ms/step - loss: 0.6623 - accuracy: 0.5718 - val_loss: 0.7170 - val_accuracy: 0.3672\n",
      "Epoch 4/10\n",
      "61/61 [==============================] - 0s 2ms/step - loss: 0.6570 - accuracy: 0.4438 - val_loss: 0.6145 - val_accuracy: 0.6172\n",
      "Epoch 5/10\n",
      "61/61 [==============================] - 0s 2ms/step - loss: 0.6521 - accuracy: 0.4949 - val_loss: 0.6414 - val_accuracy: 0.5108\n",
      "Epoch 6/10\n",
      "61/61 [==============================] - 0s 2ms/step - loss: 0.6495 - accuracy: 0.5318 - val_loss: 0.6197 - val_accuracy: 0.5646\n",
      "Epoch 7/10\n",
      "61/61 [==============================] - 0s 2ms/step - loss: 0.6458 - accuracy: 0.5041 - val_loss: 0.6014 - val_accuracy: 0.6035\n",
      "Epoch 8/10\n",
      "61/61 [==============================] - 0s 2ms/step - loss: 0.6407 - accuracy: 0.5336 - val_loss: 0.6670 - val_accuracy: 0.4629\n",
      "Epoch 9/10\n",
      "61/61 [==============================] - 0s 2ms/step - loss: 0.6378 - accuracy: 0.4987 - val_loss: 0.6184 - val_accuracy: 0.5502\n",
      "Epoch 10/10\n",
      "61/61 [==============================] - 0s 2ms/step - loss: 0.6352 - accuracy: 0.5123 - val_loss: 0.6611 - val_accuracy: 0.4779\n"
     ]
    }
   ],
   "source": [
    "from sklearn.utils.class_weight import compute_class_weight\n",
    "\n",
    "# 计算类权重\n",
    "labels = np.unique(y_train)\n",
    "class_weights = compute_class_weight(class_weight='balanced', classes=labels, y=y_train)\n",
    "class_weight_dict = dict(zip(labels, class_weights))\n",
    "\n",
    "# 在模型训练时加入 class_weight\n",
    "history = model.fit(X_train, y_train, class_weight=class_weight_dict, epochs=10, batch_size=64, validation_data=(X_test, y_test))\n"
   ]
  },
  {
   "cell_type": "code",
   "execution_count": 26,
   "metadata": {},
   "outputs": [
    {
     "name": "stdout",
     "output_type": "stream",
     "text": [
      "53/53 [==============================] - 1s 17ms/step - loss: 0.3982 - accuracy: 0.8660\n",
      "Test Loss, Test Accuracy: [0.3982389271259308, 0.8660287261009216]\n"
     ]
    }
   ],
   "source": [
    "results = model.evaluate(X_test, y_test)\n",
    "print(\"Test Loss, Test Accuracy:\", results)\n"
   ]
  },
  {
   "cell_type": "code",
   "execution_count": null,
   "metadata": {},
   "outputs": [],
   "source": [
    "plt.plot(history.history['accuracy'])\n",
    "plt.plot(history.history['val_accuracy'])\n",
    "plt.title('Model accuracy')\n",
    "plt.ylabel('Accuracy')\n",
    "plt.xlabel('Epoch')\n",
    "plt.legend(['Train', 'Validation'], loc='upper left')\n",
    "plt.show()\n",
    "\n",
    "plt.plot(history.history['loss'])\n",
    "plt.plot(history.history['val_loss'])\n",
    "plt.title('Model loss')\n",
    "plt.ylabel('Loss')\n",
    "plt.xlabel('Epoch')\n",
    "plt.legend(['Train', 'Validation'], loc='upper left')\n",
    "plt.show()\n"
   ]
  },
  {
   "cell_type": "code",
   "execution_count": 32,
   "metadata": {},
   "outputs": [
    {
     "name": "stdout",
     "output_type": "stream",
     "text": [
      "Epoch 1/10\n",
      "49/49 [==============================] - 192s 4s/step - loss: 0.4728 - accuracy: 0.8654 - val_loss: 0.4003 - val_accuracy: 0.8628\n",
      "Epoch 2/10\n",
      "49/49 [==============================] - 190s 4s/step - loss: 0.3944 - accuracy: 0.8667 - val_loss: 0.3998 - val_accuracy: 0.8628\n",
      "Epoch 3/10\n",
      "49/49 [==============================] - 189s 4s/step - loss: 0.3946 - accuracy: 0.8667 - val_loss: 0.4000 - val_accuracy: 0.8628\n",
      "Epoch 4/10\n",
      "49/49 [==============================] - 186s 4s/step - loss: 0.3928 - accuracy: 0.8667 - val_loss: 0.4001 - val_accuracy: 0.8628\n",
      "Epoch 5/10\n",
      " 4/49 [=>............................] - ETA: 2:48 - loss: 0.4383 - accuracy: 0.8438"
     ]
    },
    {
     "ename": "KeyboardInterrupt",
     "evalue": "",
     "output_type": "error",
     "traceback": [
      "\u001b[1;31m---------------------------------------------------------------------------\u001b[0m",
      "\u001b[1;31mKeyboardInterrupt\u001b[0m                         Traceback (most recent call last)",
      "Cell \u001b[1;32mIn[32], line 18\u001b[0m\n\u001b[0;32m     15\u001b[0m X_train, X_test, y_train, y_test \u001b[38;5;241m=\u001b[39m train_test_split(X_tfidf_reshaped, y, test_size\u001b[38;5;241m=\u001b[39m\u001b[38;5;241m0.3\u001b[39m, random_state\u001b[38;5;241m=\u001b[39m\u001b[38;5;241m42\u001b[39m, stratify\u001b[38;5;241m=\u001b[39my)\n\u001b[0;32m     17\u001b[0m \u001b[38;5;66;03m# 訓練模型\u001b[39;00m\n\u001b[1;32m---> 18\u001b[0m history \u001b[38;5;241m=\u001b[39m model\u001b[38;5;241m.\u001b[39mfit(X_train, y_train, epochs\u001b[38;5;241m=\u001b[39m\u001b[38;5;241m10\u001b[39m, batch_size\u001b[38;5;241m=\u001b[39m\u001b[38;5;241m64\u001b[39m, validation_split\u001b[38;5;241m=\u001b[39m\u001b[38;5;241m0.2\u001b[39m)\n\u001b[0;32m     20\u001b[0m \u001b[38;5;66;03m# 評估模型\u001b[39;00m\n\u001b[0;32m     21\u001b[0m results \u001b[38;5;241m=\u001b[39m model\u001b[38;5;241m.\u001b[39mevaluate(X_test, y_test)\n",
      "File \u001b[1;32mc:\\Users\\USER\\anaconda3\\Lib\\site-packages\\keras\\src\\utils\\traceback_utils.py:65\u001b[0m, in \u001b[0;36mfilter_traceback.<locals>.error_handler\u001b[1;34m(*args, **kwargs)\u001b[0m\n\u001b[0;32m     63\u001b[0m filtered_tb \u001b[38;5;241m=\u001b[39m \u001b[38;5;28;01mNone\u001b[39;00m\n\u001b[0;32m     64\u001b[0m \u001b[38;5;28;01mtry\u001b[39;00m:\n\u001b[1;32m---> 65\u001b[0m     \u001b[38;5;28;01mreturn\u001b[39;00m fn(\u001b[38;5;241m*\u001b[39margs, \u001b[38;5;241m*\u001b[39m\u001b[38;5;241m*\u001b[39mkwargs)\n\u001b[0;32m     66\u001b[0m \u001b[38;5;28;01mexcept\u001b[39;00m \u001b[38;5;167;01mException\u001b[39;00m \u001b[38;5;28;01mas\u001b[39;00m e:\n\u001b[0;32m     67\u001b[0m     filtered_tb \u001b[38;5;241m=\u001b[39m _process_traceback_frames(e\u001b[38;5;241m.\u001b[39m__traceback__)\n",
      "File \u001b[1;32mc:\\Users\\USER\\anaconda3\\Lib\\site-packages\\keras\\src\\engine\\training.py:1807\u001b[0m, in \u001b[0;36mModel.fit\u001b[1;34m(self, x, y, batch_size, epochs, verbose, callbacks, validation_split, validation_data, shuffle, class_weight, sample_weight, initial_epoch, steps_per_epoch, validation_steps, validation_batch_size, validation_freq, max_queue_size, workers, use_multiprocessing)\u001b[0m\n\u001b[0;32m   1799\u001b[0m \u001b[38;5;28;01mwith\u001b[39;00m tf\u001b[38;5;241m.\u001b[39mprofiler\u001b[38;5;241m.\u001b[39mexperimental\u001b[38;5;241m.\u001b[39mTrace(\n\u001b[0;32m   1800\u001b[0m     \u001b[38;5;124m\"\u001b[39m\u001b[38;5;124mtrain\u001b[39m\u001b[38;5;124m\"\u001b[39m,\n\u001b[0;32m   1801\u001b[0m     epoch_num\u001b[38;5;241m=\u001b[39mepoch,\n\u001b[1;32m   (...)\u001b[0m\n\u001b[0;32m   1804\u001b[0m     _r\u001b[38;5;241m=\u001b[39m\u001b[38;5;241m1\u001b[39m,\n\u001b[0;32m   1805\u001b[0m ):\n\u001b[0;32m   1806\u001b[0m     callbacks\u001b[38;5;241m.\u001b[39mon_train_batch_begin(step)\n\u001b[1;32m-> 1807\u001b[0m     tmp_logs \u001b[38;5;241m=\u001b[39m \u001b[38;5;28mself\u001b[39m\u001b[38;5;241m.\u001b[39mtrain_function(iterator)\n\u001b[0;32m   1808\u001b[0m     \u001b[38;5;28;01mif\u001b[39;00m data_handler\u001b[38;5;241m.\u001b[39mshould_sync:\n\u001b[0;32m   1809\u001b[0m         context\u001b[38;5;241m.\u001b[39masync_wait()\n",
      "File \u001b[1;32mc:\\Users\\USER\\anaconda3\\Lib\\site-packages\\tensorflow\\python\\util\\traceback_utils.py:150\u001b[0m, in \u001b[0;36mfilter_traceback.<locals>.error_handler\u001b[1;34m(*args, **kwargs)\u001b[0m\n\u001b[0;32m    148\u001b[0m filtered_tb \u001b[38;5;241m=\u001b[39m \u001b[38;5;28;01mNone\u001b[39;00m\n\u001b[0;32m    149\u001b[0m \u001b[38;5;28;01mtry\u001b[39;00m:\n\u001b[1;32m--> 150\u001b[0m   \u001b[38;5;28;01mreturn\u001b[39;00m fn(\u001b[38;5;241m*\u001b[39margs, \u001b[38;5;241m*\u001b[39m\u001b[38;5;241m*\u001b[39mkwargs)\n\u001b[0;32m    151\u001b[0m \u001b[38;5;28;01mexcept\u001b[39;00m \u001b[38;5;167;01mException\u001b[39;00m \u001b[38;5;28;01mas\u001b[39;00m e:\n\u001b[0;32m    152\u001b[0m   filtered_tb \u001b[38;5;241m=\u001b[39m _process_traceback_frames(e\u001b[38;5;241m.\u001b[39m__traceback__)\n",
      "File \u001b[1;32mc:\\Users\\USER\\anaconda3\\Lib\\site-packages\\tensorflow\\python\\eager\\polymorphic_function\\polymorphic_function.py:832\u001b[0m, in \u001b[0;36mFunction.__call__\u001b[1;34m(self, *args, **kwds)\u001b[0m\n\u001b[0;32m    829\u001b[0m compiler \u001b[38;5;241m=\u001b[39m \u001b[38;5;124m\"\u001b[39m\u001b[38;5;124mxla\u001b[39m\u001b[38;5;124m\"\u001b[39m \u001b[38;5;28;01mif\u001b[39;00m \u001b[38;5;28mself\u001b[39m\u001b[38;5;241m.\u001b[39m_jit_compile \u001b[38;5;28;01melse\u001b[39;00m \u001b[38;5;124m\"\u001b[39m\u001b[38;5;124mnonXla\u001b[39m\u001b[38;5;124m\"\u001b[39m\n\u001b[0;32m    831\u001b[0m \u001b[38;5;28;01mwith\u001b[39;00m OptionalXlaContext(\u001b[38;5;28mself\u001b[39m\u001b[38;5;241m.\u001b[39m_jit_compile):\n\u001b[1;32m--> 832\u001b[0m   result \u001b[38;5;241m=\u001b[39m \u001b[38;5;28mself\u001b[39m\u001b[38;5;241m.\u001b[39m_call(\u001b[38;5;241m*\u001b[39margs, \u001b[38;5;241m*\u001b[39m\u001b[38;5;241m*\u001b[39mkwds)\n\u001b[0;32m    834\u001b[0m new_tracing_count \u001b[38;5;241m=\u001b[39m \u001b[38;5;28mself\u001b[39m\u001b[38;5;241m.\u001b[39mexperimental_get_tracing_count()\n\u001b[0;32m    835\u001b[0m without_tracing \u001b[38;5;241m=\u001b[39m (tracing_count \u001b[38;5;241m==\u001b[39m new_tracing_count)\n",
      "File \u001b[1;32mc:\\Users\\USER\\anaconda3\\Lib\\site-packages\\tensorflow\\python\\eager\\polymorphic_function\\polymorphic_function.py:868\u001b[0m, in \u001b[0;36mFunction._call\u001b[1;34m(self, *args, **kwds)\u001b[0m\n\u001b[0;32m    865\u001b[0m   \u001b[38;5;28mself\u001b[39m\u001b[38;5;241m.\u001b[39m_lock\u001b[38;5;241m.\u001b[39mrelease()\n\u001b[0;32m    866\u001b[0m   \u001b[38;5;66;03m# In this case we have created variables on the first call, so we run the\u001b[39;00m\n\u001b[0;32m    867\u001b[0m   \u001b[38;5;66;03m# defunned version which is guaranteed to never create variables.\u001b[39;00m\n\u001b[1;32m--> 868\u001b[0m   \u001b[38;5;28;01mreturn\u001b[39;00m tracing_compilation\u001b[38;5;241m.\u001b[39mcall_function(\n\u001b[0;32m    869\u001b[0m       args, kwds, \u001b[38;5;28mself\u001b[39m\u001b[38;5;241m.\u001b[39m_no_variable_creation_config\n\u001b[0;32m    870\u001b[0m   )\n\u001b[0;32m    871\u001b[0m \u001b[38;5;28;01melif\u001b[39;00m \u001b[38;5;28mself\u001b[39m\u001b[38;5;241m.\u001b[39m_variable_creation_config \u001b[38;5;129;01mis\u001b[39;00m \u001b[38;5;129;01mnot\u001b[39;00m \u001b[38;5;28;01mNone\u001b[39;00m:\n\u001b[0;32m    872\u001b[0m   \u001b[38;5;66;03m# Release the lock early so that multiple threads can perform the call\u001b[39;00m\n\u001b[0;32m    873\u001b[0m   \u001b[38;5;66;03m# in parallel.\u001b[39;00m\n\u001b[0;32m    874\u001b[0m   \u001b[38;5;28mself\u001b[39m\u001b[38;5;241m.\u001b[39m_lock\u001b[38;5;241m.\u001b[39mrelease()\n",
      "File \u001b[1;32mc:\\Users\\USER\\anaconda3\\Lib\\site-packages\\tensorflow\\python\\eager\\polymorphic_function\\tracing_compilation.py:139\u001b[0m, in \u001b[0;36mcall_function\u001b[1;34m(args, kwargs, tracing_options)\u001b[0m\n\u001b[0;32m    137\u001b[0m bound_args \u001b[38;5;241m=\u001b[39m function\u001b[38;5;241m.\u001b[39mfunction_type\u001b[38;5;241m.\u001b[39mbind(\u001b[38;5;241m*\u001b[39margs, \u001b[38;5;241m*\u001b[39m\u001b[38;5;241m*\u001b[39mkwargs)\n\u001b[0;32m    138\u001b[0m flat_inputs \u001b[38;5;241m=\u001b[39m function\u001b[38;5;241m.\u001b[39mfunction_type\u001b[38;5;241m.\u001b[39munpack_inputs(bound_args)\n\u001b[1;32m--> 139\u001b[0m \u001b[38;5;28;01mreturn\u001b[39;00m function\u001b[38;5;241m.\u001b[39m_call_flat(  \u001b[38;5;66;03m# pylint: disable=protected-access\u001b[39;00m\n\u001b[0;32m    140\u001b[0m     flat_inputs, captured_inputs\u001b[38;5;241m=\u001b[39mfunction\u001b[38;5;241m.\u001b[39mcaptured_inputs\n\u001b[0;32m    141\u001b[0m )\n",
      "File \u001b[1;32mc:\\Users\\USER\\anaconda3\\Lib\\site-packages\\tensorflow\\python\\eager\\polymorphic_function\\concrete_function.py:1323\u001b[0m, in \u001b[0;36mConcreteFunction._call_flat\u001b[1;34m(self, tensor_inputs, captured_inputs)\u001b[0m\n\u001b[0;32m   1319\u001b[0m possible_gradient_type \u001b[38;5;241m=\u001b[39m gradients_util\u001b[38;5;241m.\u001b[39mPossibleTapeGradientTypes(args)\n\u001b[0;32m   1320\u001b[0m \u001b[38;5;28;01mif\u001b[39;00m (possible_gradient_type \u001b[38;5;241m==\u001b[39m gradients_util\u001b[38;5;241m.\u001b[39mPOSSIBLE_GRADIENT_TYPES_NONE\n\u001b[0;32m   1321\u001b[0m     \u001b[38;5;129;01mand\u001b[39;00m executing_eagerly):\n\u001b[0;32m   1322\u001b[0m   \u001b[38;5;66;03m# No tape is watching; skip to running the function.\u001b[39;00m\n\u001b[1;32m-> 1323\u001b[0m   \u001b[38;5;28;01mreturn\u001b[39;00m \u001b[38;5;28mself\u001b[39m\u001b[38;5;241m.\u001b[39m_inference_function\u001b[38;5;241m.\u001b[39mcall_preflattened(args)\n\u001b[0;32m   1324\u001b[0m forward_backward \u001b[38;5;241m=\u001b[39m \u001b[38;5;28mself\u001b[39m\u001b[38;5;241m.\u001b[39m_select_forward_and_backward_functions(\n\u001b[0;32m   1325\u001b[0m     args,\n\u001b[0;32m   1326\u001b[0m     possible_gradient_type,\n\u001b[0;32m   1327\u001b[0m     executing_eagerly)\n\u001b[0;32m   1328\u001b[0m forward_function, args_with_tangents \u001b[38;5;241m=\u001b[39m forward_backward\u001b[38;5;241m.\u001b[39mforward()\n",
      "File \u001b[1;32mc:\\Users\\USER\\anaconda3\\Lib\\site-packages\\tensorflow\\python\\eager\\polymorphic_function\\atomic_function.py:216\u001b[0m, in \u001b[0;36mAtomicFunction.call_preflattened\u001b[1;34m(self, args)\u001b[0m\n\u001b[0;32m    214\u001b[0m \u001b[38;5;28;01mdef\u001b[39;00m \u001b[38;5;21mcall_preflattened\u001b[39m(\u001b[38;5;28mself\u001b[39m, args: Sequence[core\u001b[38;5;241m.\u001b[39mTensor]) \u001b[38;5;241m-\u001b[39m\u001b[38;5;241m>\u001b[39m Any:\n\u001b[0;32m    215\u001b[0m \u001b[38;5;250m  \u001b[39m\u001b[38;5;124;03m\"\"\"Calls with flattened tensor inputs and returns the structured output.\"\"\"\u001b[39;00m\n\u001b[1;32m--> 216\u001b[0m   flat_outputs \u001b[38;5;241m=\u001b[39m \u001b[38;5;28mself\u001b[39m\u001b[38;5;241m.\u001b[39mcall_flat(\u001b[38;5;241m*\u001b[39margs)\n\u001b[0;32m    217\u001b[0m   \u001b[38;5;28;01mreturn\u001b[39;00m \u001b[38;5;28mself\u001b[39m\u001b[38;5;241m.\u001b[39mfunction_type\u001b[38;5;241m.\u001b[39mpack_output(flat_outputs)\n",
      "File \u001b[1;32mc:\\Users\\USER\\anaconda3\\Lib\\site-packages\\tensorflow\\python\\eager\\polymorphic_function\\atomic_function.py:251\u001b[0m, in \u001b[0;36mAtomicFunction.call_flat\u001b[1;34m(self, *args)\u001b[0m\n\u001b[0;32m    249\u001b[0m \u001b[38;5;28;01mwith\u001b[39;00m record\u001b[38;5;241m.\u001b[39mstop_recording():\n\u001b[0;32m    250\u001b[0m   \u001b[38;5;28;01mif\u001b[39;00m \u001b[38;5;28mself\u001b[39m\u001b[38;5;241m.\u001b[39m_bound_context\u001b[38;5;241m.\u001b[39mexecuting_eagerly():\n\u001b[1;32m--> 251\u001b[0m     outputs \u001b[38;5;241m=\u001b[39m \u001b[38;5;28mself\u001b[39m\u001b[38;5;241m.\u001b[39m_bound_context\u001b[38;5;241m.\u001b[39mcall_function(\n\u001b[0;32m    252\u001b[0m         \u001b[38;5;28mself\u001b[39m\u001b[38;5;241m.\u001b[39mname,\n\u001b[0;32m    253\u001b[0m         \u001b[38;5;28mlist\u001b[39m(args),\n\u001b[0;32m    254\u001b[0m         \u001b[38;5;28mlen\u001b[39m(\u001b[38;5;28mself\u001b[39m\u001b[38;5;241m.\u001b[39mfunction_type\u001b[38;5;241m.\u001b[39mflat_outputs),\n\u001b[0;32m    255\u001b[0m     )\n\u001b[0;32m    256\u001b[0m   \u001b[38;5;28;01melse\u001b[39;00m:\n\u001b[0;32m    257\u001b[0m     outputs \u001b[38;5;241m=\u001b[39m make_call_op_in_graph(\n\u001b[0;32m    258\u001b[0m         \u001b[38;5;28mself\u001b[39m,\n\u001b[0;32m    259\u001b[0m         \u001b[38;5;28mlist\u001b[39m(args),\n\u001b[0;32m    260\u001b[0m         \u001b[38;5;28mself\u001b[39m\u001b[38;5;241m.\u001b[39m_bound_context\u001b[38;5;241m.\u001b[39mfunction_call_options\u001b[38;5;241m.\u001b[39mas_attrs(),\n\u001b[0;32m    261\u001b[0m     )\n",
      "File \u001b[1;32mc:\\Users\\USER\\anaconda3\\Lib\\site-packages\\tensorflow\\python\\eager\\context.py:1486\u001b[0m, in \u001b[0;36mContext.call_function\u001b[1;34m(self, name, tensor_inputs, num_outputs)\u001b[0m\n\u001b[0;32m   1484\u001b[0m cancellation_context \u001b[38;5;241m=\u001b[39m cancellation\u001b[38;5;241m.\u001b[39mcontext()\n\u001b[0;32m   1485\u001b[0m \u001b[38;5;28;01mif\u001b[39;00m cancellation_context \u001b[38;5;129;01mis\u001b[39;00m \u001b[38;5;28;01mNone\u001b[39;00m:\n\u001b[1;32m-> 1486\u001b[0m   outputs \u001b[38;5;241m=\u001b[39m execute\u001b[38;5;241m.\u001b[39mexecute(\n\u001b[0;32m   1487\u001b[0m       name\u001b[38;5;241m.\u001b[39mdecode(\u001b[38;5;124m\"\u001b[39m\u001b[38;5;124mutf-8\u001b[39m\u001b[38;5;124m\"\u001b[39m),\n\u001b[0;32m   1488\u001b[0m       num_outputs\u001b[38;5;241m=\u001b[39mnum_outputs,\n\u001b[0;32m   1489\u001b[0m       inputs\u001b[38;5;241m=\u001b[39mtensor_inputs,\n\u001b[0;32m   1490\u001b[0m       attrs\u001b[38;5;241m=\u001b[39mattrs,\n\u001b[0;32m   1491\u001b[0m       ctx\u001b[38;5;241m=\u001b[39m\u001b[38;5;28mself\u001b[39m,\n\u001b[0;32m   1492\u001b[0m   )\n\u001b[0;32m   1493\u001b[0m \u001b[38;5;28;01melse\u001b[39;00m:\n\u001b[0;32m   1494\u001b[0m   outputs \u001b[38;5;241m=\u001b[39m execute\u001b[38;5;241m.\u001b[39mexecute_with_cancellation(\n\u001b[0;32m   1495\u001b[0m       name\u001b[38;5;241m.\u001b[39mdecode(\u001b[38;5;124m\"\u001b[39m\u001b[38;5;124mutf-8\u001b[39m\u001b[38;5;124m\"\u001b[39m),\n\u001b[0;32m   1496\u001b[0m       num_outputs\u001b[38;5;241m=\u001b[39mnum_outputs,\n\u001b[1;32m   (...)\u001b[0m\n\u001b[0;32m   1500\u001b[0m       cancellation_manager\u001b[38;5;241m=\u001b[39mcancellation_context,\n\u001b[0;32m   1501\u001b[0m   )\n",
      "File \u001b[1;32mc:\\Users\\USER\\anaconda3\\Lib\\site-packages\\tensorflow\\python\\eager\\execute.py:53\u001b[0m, in \u001b[0;36mquick_execute\u001b[1;34m(op_name, num_outputs, inputs, attrs, ctx, name)\u001b[0m\n\u001b[0;32m     51\u001b[0m \u001b[38;5;28;01mtry\u001b[39;00m:\n\u001b[0;32m     52\u001b[0m   ctx\u001b[38;5;241m.\u001b[39mensure_initialized()\n\u001b[1;32m---> 53\u001b[0m   tensors \u001b[38;5;241m=\u001b[39m pywrap_tfe\u001b[38;5;241m.\u001b[39mTFE_Py_Execute(ctx\u001b[38;5;241m.\u001b[39m_handle, device_name, op_name,\n\u001b[0;32m     54\u001b[0m                                       inputs, attrs, num_outputs)\n\u001b[0;32m     55\u001b[0m \u001b[38;5;28;01mexcept\u001b[39;00m core\u001b[38;5;241m.\u001b[39m_NotOkStatusException \u001b[38;5;28;01mas\u001b[39;00m e:\n\u001b[0;32m     56\u001b[0m   \u001b[38;5;28;01mif\u001b[39;00m name \u001b[38;5;129;01mis\u001b[39;00m \u001b[38;5;129;01mnot\u001b[39;00m \u001b[38;5;28;01mNone\u001b[39;00m:\n",
      "\u001b[1;31mKeyboardInterrupt\u001b[0m: "
     ]
    }
   ],
   "source": [
    "\n",
    "input_length = X_tfidf.shape[1]  # 特徵數量\n",
    "\n",
    "# 建立模型\n",
    "input_layer = Input(shape=(input_length, 1))\n",
    "lstm_layer = LSTM(64, return_sequences=False)(input_layer)\n",
    "output_layer = Dense(1, activation='sigmoid')(lstm_layer)\n",
    "\n",
    "model = Model(inputs=input_layer, outputs=output_layer)\n",
    "model.compile(optimizer='adam', loss='binary_crossentropy', metrics=['accuracy'])\n",
    "\n",
    "# 由於 LSTM 期望三維輸入 [樣本數, 時間步長, 特徵數]，我們需要將輸入數據 X_tfidf 改變形狀\n",
    "X_tfidf_reshaped = np.expand_dims(X_tfidf, axis=2)\n",
    "\n",
    "# 拆分數據集\n",
    "X_train, X_test, y_train, y_test = train_test_split(X_tfidf_reshaped, y, test_size=0.3, random_state=42, stratify=y)\n",
    "\n",
    "# 訓練模型\n",
    "history = model.fit(X_train, y_train, epochs=10, batch_size=64, validation_split=0.2)\n",
    "\n",
    "# 評估模型\n",
    "results = model.evaluate(X_test, y_test)\n",
    "print(\"Test Loss, Test Accuracy:\", results)\n"
   ]
  },
  {
   "cell_type": "code",
   "execution_count": null,
   "metadata": {},
   "outputs": [],
   "source": []
  },
  {
   "cell_type": "code",
   "execution_count": 36,
   "metadata": {},
   "outputs": [
    {
     "name": "stdout",
     "output_type": "stream",
     "text": [
      "Epoch 1/10\n",
      "61/61 [==============================] - 365s 6s/step - loss: 0.4634 - accuracy: 0.8662 - val_loss: 0.3958 - val_accuracy: 0.8660\n",
      "Epoch 2/10\n",
      "61/61 [==============================] - 306s 5s/step - loss: 0.3951 - accuracy: 0.8659 - val_loss: 0.3970 - val_accuracy: 0.8660\n",
      "Epoch 3/10\n",
      " 3/61 [>.............................] - ETA: 3:25 - loss: 0.3566 - accuracy: 0.8854"
     ]
    },
    {
     "ename": "KeyboardInterrupt",
     "evalue": "",
     "output_type": "error",
     "traceback": [
      "\u001b[1;31m---------------------------------------------------------------------------\u001b[0m",
      "\u001b[1;31mKeyboardInterrupt\u001b[0m                         Traceback (most recent call last)",
      "Cell \u001b[1;32mIn[36], line 19\u001b[0m\n\u001b[0;32m     16\u001b[0m X_train, X_test, y_train, y_test \u001b[38;5;241m=\u001b[39m train_test_split(X_tfidf_reshaped, y, test_size\u001b[38;5;241m=\u001b[39m\u001b[38;5;241m0.3\u001b[39m, random_state\u001b[38;5;241m=\u001b[39m\u001b[38;5;241m42\u001b[39m, stratify\u001b[38;5;241m=\u001b[39my)\n\u001b[0;32m     18\u001b[0m \u001b[38;5;66;03m# 訓練模型\u001b[39;00m\n\u001b[1;32m---> 19\u001b[0m history \u001b[38;5;241m=\u001b[39m model\u001b[38;5;241m.\u001b[39mfit(X_train, y_train, epochs\u001b[38;5;241m=\u001b[39m\u001b[38;5;241m10\u001b[39m, batch_size\u001b[38;5;241m=\u001b[39m\u001b[38;5;241m64\u001b[39m, validation_data\u001b[38;5;241m=\u001b[39m(X_test, y_test))\n\u001b[0;32m     21\u001b[0m \u001b[38;5;66;03m# 評估模型\u001b[39;00m\n\u001b[0;32m     22\u001b[0m results \u001b[38;5;241m=\u001b[39m model\u001b[38;5;241m.\u001b[39mevaluate(X_test, y_test)\n",
      "File \u001b[1;32mc:\\Users\\USER\\anaconda3\\Lib\\site-packages\\keras\\src\\utils\\traceback_utils.py:65\u001b[0m, in \u001b[0;36mfilter_traceback.<locals>.error_handler\u001b[1;34m(*args, **kwargs)\u001b[0m\n\u001b[0;32m     63\u001b[0m filtered_tb \u001b[38;5;241m=\u001b[39m \u001b[38;5;28;01mNone\u001b[39;00m\n\u001b[0;32m     64\u001b[0m \u001b[38;5;28;01mtry\u001b[39;00m:\n\u001b[1;32m---> 65\u001b[0m     \u001b[38;5;28;01mreturn\u001b[39;00m fn(\u001b[38;5;241m*\u001b[39margs, \u001b[38;5;241m*\u001b[39m\u001b[38;5;241m*\u001b[39mkwargs)\n\u001b[0;32m     66\u001b[0m \u001b[38;5;28;01mexcept\u001b[39;00m \u001b[38;5;167;01mException\u001b[39;00m \u001b[38;5;28;01mas\u001b[39;00m e:\n\u001b[0;32m     67\u001b[0m     filtered_tb \u001b[38;5;241m=\u001b[39m _process_traceback_frames(e\u001b[38;5;241m.\u001b[39m__traceback__)\n",
      "File \u001b[1;32mc:\\Users\\USER\\anaconda3\\Lib\\site-packages\\keras\\src\\engine\\training.py:1807\u001b[0m, in \u001b[0;36mModel.fit\u001b[1;34m(self, x, y, batch_size, epochs, verbose, callbacks, validation_split, validation_data, shuffle, class_weight, sample_weight, initial_epoch, steps_per_epoch, validation_steps, validation_batch_size, validation_freq, max_queue_size, workers, use_multiprocessing)\u001b[0m\n\u001b[0;32m   1799\u001b[0m \u001b[38;5;28;01mwith\u001b[39;00m tf\u001b[38;5;241m.\u001b[39mprofiler\u001b[38;5;241m.\u001b[39mexperimental\u001b[38;5;241m.\u001b[39mTrace(\n\u001b[0;32m   1800\u001b[0m     \u001b[38;5;124m\"\u001b[39m\u001b[38;5;124mtrain\u001b[39m\u001b[38;5;124m\"\u001b[39m,\n\u001b[0;32m   1801\u001b[0m     epoch_num\u001b[38;5;241m=\u001b[39mepoch,\n\u001b[1;32m   (...)\u001b[0m\n\u001b[0;32m   1804\u001b[0m     _r\u001b[38;5;241m=\u001b[39m\u001b[38;5;241m1\u001b[39m,\n\u001b[0;32m   1805\u001b[0m ):\n\u001b[0;32m   1806\u001b[0m     callbacks\u001b[38;5;241m.\u001b[39mon_train_batch_begin(step)\n\u001b[1;32m-> 1807\u001b[0m     tmp_logs \u001b[38;5;241m=\u001b[39m \u001b[38;5;28mself\u001b[39m\u001b[38;5;241m.\u001b[39mtrain_function(iterator)\n\u001b[0;32m   1808\u001b[0m     \u001b[38;5;28;01mif\u001b[39;00m data_handler\u001b[38;5;241m.\u001b[39mshould_sync:\n\u001b[0;32m   1809\u001b[0m         context\u001b[38;5;241m.\u001b[39masync_wait()\n",
      "File \u001b[1;32mc:\\Users\\USER\\anaconda3\\Lib\\site-packages\\tensorflow\\python\\util\\traceback_utils.py:150\u001b[0m, in \u001b[0;36mfilter_traceback.<locals>.error_handler\u001b[1;34m(*args, **kwargs)\u001b[0m\n\u001b[0;32m    148\u001b[0m filtered_tb \u001b[38;5;241m=\u001b[39m \u001b[38;5;28;01mNone\u001b[39;00m\n\u001b[0;32m    149\u001b[0m \u001b[38;5;28;01mtry\u001b[39;00m:\n\u001b[1;32m--> 150\u001b[0m   \u001b[38;5;28;01mreturn\u001b[39;00m fn(\u001b[38;5;241m*\u001b[39margs, \u001b[38;5;241m*\u001b[39m\u001b[38;5;241m*\u001b[39mkwargs)\n\u001b[0;32m    151\u001b[0m \u001b[38;5;28;01mexcept\u001b[39;00m \u001b[38;5;167;01mException\u001b[39;00m \u001b[38;5;28;01mas\u001b[39;00m e:\n\u001b[0;32m    152\u001b[0m   filtered_tb \u001b[38;5;241m=\u001b[39m _process_traceback_frames(e\u001b[38;5;241m.\u001b[39m__traceback__)\n",
      "File \u001b[1;32mc:\\Users\\USER\\anaconda3\\Lib\\site-packages\\tensorflow\\python\\eager\\polymorphic_function\\polymorphic_function.py:832\u001b[0m, in \u001b[0;36mFunction.__call__\u001b[1;34m(self, *args, **kwds)\u001b[0m\n\u001b[0;32m    829\u001b[0m compiler \u001b[38;5;241m=\u001b[39m \u001b[38;5;124m\"\u001b[39m\u001b[38;5;124mxla\u001b[39m\u001b[38;5;124m\"\u001b[39m \u001b[38;5;28;01mif\u001b[39;00m \u001b[38;5;28mself\u001b[39m\u001b[38;5;241m.\u001b[39m_jit_compile \u001b[38;5;28;01melse\u001b[39;00m \u001b[38;5;124m\"\u001b[39m\u001b[38;5;124mnonXla\u001b[39m\u001b[38;5;124m\"\u001b[39m\n\u001b[0;32m    831\u001b[0m \u001b[38;5;28;01mwith\u001b[39;00m OptionalXlaContext(\u001b[38;5;28mself\u001b[39m\u001b[38;5;241m.\u001b[39m_jit_compile):\n\u001b[1;32m--> 832\u001b[0m   result \u001b[38;5;241m=\u001b[39m \u001b[38;5;28mself\u001b[39m\u001b[38;5;241m.\u001b[39m_call(\u001b[38;5;241m*\u001b[39margs, \u001b[38;5;241m*\u001b[39m\u001b[38;5;241m*\u001b[39mkwds)\n\u001b[0;32m    834\u001b[0m new_tracing_count \u001b[38;5;241m=\u001b[39m \u001b[38;5;28mself\u001b[39m\u001b[38;5;241m.\u001b[39mexperimental_get_tracing_count()\n\u001b[0;32m    835\u001b[0m without_tracing \u001b[38;5;241m=\u001b[39m (tracing_count \u001b[38;5;241m==\u001b[39m new_tracing_count)\n",
      "File \u001b[1;32mc:\\Users\\USER\\anaconda3\\Lib\\site-packages\\tensorflow\\python\\eager\\polymorphic_function\\polymorphic_function.py:868\u001b[0m, in \u001b[0;36mFunction._call\u001b[1;34m(self, *args, **kwds)\u001b[0m\n\u001b[0;32m    865\u001b[0m   \u001b[38;5;28mself\u001b[39m\u001b[38;5;241m.\u001b[39m_lock\u001b[38;5;241m.\u001b[39mrelease()\n\u001b[0;32m    866\u001b[0m   \u001b[38;5;66;03m# In this case we have created variables on the first call, so we run the\u001b[39;00m\n\u001b[0;32m    867\u001b[0m   \u001b[38;5;66;03m# defunned version which is guaranteed to never create variables.\u001b[39;00m\n\u001b[1;32m--> 868\u001b[0m   \u001b[38;5;28;01mreturn\u001b[39;00m tracing_compilation\u001b[38;5;241m.\u001b[39mcall_function(\n\u001b[0;32m    869\u001b[0m       args, kwds, \u001b[38;5;28mself\u001b[39m\u001b[38;5;241m.\u001b[39m_no_variable_creation_config\n\u001b[0;32m    870\u001b[0m   )\n\u001b[0;32m    871\u001b[0m \u001b[38;5;28;01melif\u001b[39;00m \u001b[38;5;28mself\u001b[39m\u001b[38;5;241m.\u001b[39m_variable_creation_config \u001b[38;5;129;01mis\u001b[39;00m \u001b[38;5;129;01mnot\u001b[39;00m \u001b[38;5;28;01mNone\u001b[39;00m:\n\u001b[0;32m    872\u001b[0m   \u001b[38;5;66;03m# Release the lock early so that multiple threads can perform the call\u001b[39;00m\n\u001b[0;32m    873\u001b[0m   \u001b[38;5;66;03m# in parallel.\u001b[39;00m\n\u001b[0;32m    874\u001b[0m   \u001b[38;5;28mself\u001b[39m\u001b[38;5;241m.\u001b[39m_lock\u001b[38;5;241m.\u001b[39mrelease()\n",
      "File \u001b[1;32mc:\\Users\\USER\\anaconda3\\Lib\\site-packages\\tensorflow\\python\\eager\\polymorphic_function\\tracing_compilation.py:139\u001b[0m, in \u001b[0;36mcall_function\u001b[1;34m(args, kwargs, tracing_options)\u001b[0m\n\u001b[0;32m    137\u001b[0m bound_args \u001b[38;5;241m=\u001b[39m function\u001b[38;5;241m.\u001b[39mfunction_type\u001b[38;5;241m.\u001b[39mbind(\u001b[38;5;241m*\u001b[39margs, \u001b[38;5;241m*\u001b[39m\u001b[38;5;241m*\u001b[39mkwargs)\n\u001b[0;32m    138\u001b[0m flat_inputs \u001b[38;5;241m=\u001b[39m function\u001b[38;5;241m.\u001b[39mfunction_type\u001b[38;5;241m.\u001b[39munpack_inputs(bound_args)\n\u001b[1;32m--> 139\u001b[0m \u001b[38;5;28;01mreturn\u001b[39;00m function\u001b[38;5;241m.\u001b[39m_call_flat(  \u001b[38;5;66;03m# pylint: disable=protected-access\u001b[39;00m\n\u001b[0;32m    140\u001b[0m     flat_inputs, captured_inputs\u001b[38;5;241m=\u001b[39mfunction\u001b[38;5;241m.\u001b[39mcaptured_inputs\n\u001b[0;32m    141\u001b[0m )\n",
      "File \u001b[1;32mc:\\Users\\USER\\anaconda3\\Lib\\site-packages\\tensorflow\\python\\eager\\polymorphic_function\\concrete_function.py:1323\u001b[0m, in \u001b[0;36mConcreteFunction._call_flat\u001b[1;34m(self, tensor_inputs, captured_inputs)\u001b[0m\n\u001b[0;32m   1319\u001b[0m possible_gradient_type \u001b[38;5;241m=\u001b[39m gradients_util\u001b[38;5;241m.\u001b[39mPossibleTapeGradientTypes(args)\n\u001b[0;32m   1320\u001b[0m \u001b[38;5;28;01mif\u001b[39;00m (possible_gradient_type \u001b[38;5;241m==\u001b[39m gradients_util\u001b[38;5;241m.\u001b[39mPOSSIBLE_GRADIENT_TYPES_NONE\n\u001b[0;32m   1321\u001b[0m     \u001b[38;5;129;01mand\u001b[39;00m executing_eagerly):\n\u001b[0;32m   1322\u001b[0m   \u001b[38;5;66;03m# No tape is watching; skip to running the function.\u001b[39;00m\n\u001b[1;32m-> 1323\u001b[0m   \u001b[38;5;28;01mreturn\u001b[39;00m \u001b[38;5;28mself\u001b[39m\u001b[38;5;241m.\u001b[39m_inference_function\u001b[38;5;241m.\u001b[39mcall_preflattened(args)\n\u001b[0;32m   1324\u001b[0m forward_backward \u001b[38;5;241m=\u001b[39m \u001b[38;5;28mself\u001b[39m\u001b[38;5;241m.\u001b[39m_select_forward_and_backward_functions(\n\u001b[0;32m   1325\u001b[0m     args,\n\u001b[0;32m   1326\u001b[0m     possible_gradient_type,\n\u001b[0;32m   1327\u001b[0m     executing_eagerly)\n\u001b[0;32m   1328\u001b[0m forward_function, args_with_tangents \u001b[38;5;241m=\u001b[39m forward_backward\u001b[38;5;241m.\u001b[39mforward()\n",
      "File \u001b[1;32mc:\\Users\\USER\\anaconda3\\Lib\\site-packages\\tensorflow\\python\\eager\\polymorphic_function\\atomic_function.py:216\u001b[0m, in \u001b[0;36mAtomicFunction.call_preflattened\u001b[1;34m(self, args)\u001b[0m\n\u001b[0;32m    214\u001b[0m \u001b[38;5;28;01mdef\u001b[39;00m \u001b[38;5;21mcall_preflattened\u001b[39m(\u001b[38;5;28mself\u001b[39m, args: Sequence[core\u001b[38;5;241m.\u001b[39mTensor]) \u001b[38;5;241m-\u001b[39m\u001b[38;5;241m>\u001b[39m Any:\n\u001b[0;32m    215\u001b[0m \u001b[38;5;250m  \u001b[39m\u001b[38;5;124;03m\"\"\"Calls with flattened tensor inputs and returns the structured output.\"\"\"\u001b[39;00m\n\u001b[1;32m--> 216\u001b[0m   flat_outputs \u001b[38;5;241m=\u001b[39m \u001b[38;5;28mself\u001b[39m\u001b[38;5;241m.\u001b[39mcall_flat(\u001b[38;5;241m*\u001b[39margs)\n\u001b[0;32m    217\u001b[0m   \u001b[38;5;28;01mreturn\u001b[39;00m \u001b[38;5;28mself\u001b[39m\u001b[38;5;241m.\u001b[39mfunction_type\u001b[38;5;241m.\u001b[39mpack_output(flat_outputs)\n",
      "File \u001b[1;32mc:\\Users\\USER\\anaconda3\\Lib\\site-packages\\tensorflow\\python\\eager\\polymorphic_function\\atomic_function.py:251\u001b[0m, in \u001b[0;36mAtomicFunction.call_flat\u001b[1;34m(self, *args)\u001b[0m\n\u001b[0;32m    249\u001b[0m \u001b[38;5;28;01mwith\u001b[39;00m record\u001b[38;5;241m.\u001b[39mstop_recording():\n\u001b[0;32m    250\u001b[0m   \u001b[38;5;28;01mif\u001b[39;00m \u001b[38;5;28mself\u001b[39m\u001b[38;5;241m.\u001b[39m_bound_context\u001b[38;5;241m.\u001b[39mexecuting_eagerly():\n\u001b[1;32m--> 251\u001b[0m     outputs \u001b[38;5;241m=\u001b[39m \u001b[38;5;28mself\u001b[39m\u001b[38;5;241m.\u001b[39m_bound_context\u001b[38;5;241m.\u001b[39mcall_function(\n\u001b[0;32m    252\u001b[0m         \u001b[38;5;28mself\u001b[39m\u001b[38;5;241m.\u001b[39mname,\n\u001b[0;32m    253\u001b[0m         \u001b[38;5;28mlist\u001b[39m(args),\n\u001b[0;32m    254\u001b[0m         \u001b[38;5;28mlen\u001b[39m(\u001b[38;5;28mself\u001b[39m\u001b[38;5;241m.\u001b[39mfunction_type\u001b[38;5;241m.\u001b[39mflat_outputs),\n\u001b[0;32m    255\u001b[0m     )\n\u001b[0;32m    256\u001b[0m   \u001b[38;5;28;01melse\u001b[39;00m:\n\u001b[0;32m    257\u001b[0m     outputs \u001b[38;5;241m=\u001b[39m make_call_op_in_graph(\n\u001b[0;32m    258\u001b[0m         \u001b[38;5;28mself\u001b[39m,\n\u001b[0;32m    259\u001b[0m         \u001b[38;5;28mlist\u001b[39m(args),\n\u001b[0;32m    260\u001b[0m         \u001b[38;5;28mself\u001b[39m\u001b[38;5;241m.\u001b[39m_bound_context\u001b[38;5;241m.\u001b[39mfunction_call_options\u001b[38;5;241m.\u001b[39mas_attrs(),\n\u001b[0;32m    261\u001b[0m     )\n",
      "File \u001b[1;32mc:\\Users\\USER\\anaconda3\\Lib\\site-packages\\tensorflow\\python\\eager\\context.py:1486\u001b[0m, in \u001b[0;36mContext.call_function\u001b[1;34m(self, name, tensor_inputs, num_outputs)\u001b[0m\n\u001b[0;32m   1484\u001b[0m cancellation_context \u001b[38;5;241m=\u001b[39m cancellation\u001b[38;5;241m.\u001b[39mcontext()\n\u001b[0;32m   1485\u001b[0m \u001b[38;5;28;01mif\u001b[39;00m cancellation_context \u001b[38;5;129;01mis\u001b[39;00m \u001b[38;5;28;01mNone\u001b[39;00m:\n\u001b[1;32m-> 1486\u001b[0m   outputs \u001b[38;5;241m=\u001b[39m execute\u001b[38;5;241m.\u001b[39mexecute(\n\u001b[0;32m   1487\u001b[0m       name\u001b[38;5;241m.\u001b[39mdecode(\u001b[38;5;124m\"\u001b[39m\u001b[38;5;124mutf-8\u001b[39m\u001b[38;5;124m\"\u001b[39m),\n\u001b[0;32m   1488\u001b[0m       num_outputs\u001b[38;5;241m=\u001b[39mnum_outputs,\n\u001b[0;32m   1489\u001b[0m       inputs\u001b[38;5;241m=\u001b[39mtensor_inputs,\n\u001b[0;32m   1490\u001b[0m       attrs\u001b[38;5;241m=\u001b[39mattrs,\n\u001b[0;32m   1491\u001b[0m       ctx\u001b[38;5;241m=\u001b[39m\u001b[38;5;28mself\u001b[39m,\n\u001b[0;32m   1492\u001b[0m   )\n\u001b[0;32m   1493\u001b[0m \u001b[38;5;28;01melse\u001b[39;00m:\n\u001b[0;32m   1494\u001b[0m   outputs \u001b[38;5;241m=\u001b[39m execute\u001b[38;5;241m.\u001b[39mexecute_with_cancellation(\n\u001b[0;32m   1495\u001b[0m       name\u001b[38;5;241m.\u001b[39mdecode(\u001b[38;5;124m\"\u001b[39m\u001b[38;5;124mutf-8\u001b[39m\u001b[38;5;124m\"\u001b[39m),\n\u001b[0;32m   1496\u001b[0m       num_outputs\u001b[38;5;241m=\u001b[39mnum_outputs,\n\u001b[1;32m   (...)\u001b[0m\n\u001b[0;32m   1500\u001b[0m       cancellation_manager\u001b[38;5;241m=\u001b[39mcancellation_context,\n\u001b[0;32m   1501\u001b[0m   )\n",
      "File \u001b[1;32mc:\\Users\\USER\\anaconda3\\Lib\\site-packages\\tensorflow\\python\\eager\\execute.py:53\u001b[0m, in \u001b[0;36mquick_execute\u001b[1;34m(op_name, num_outputs, inputs, attrs, ctx, name)\u001b[0m\n\u001b[0;32m     51\u001b[0m \u001b[38;5;28;01mtry\u001b[39;00m:\n\u001b[0;32m     52\u001b[0m   ctx\u001b[38;5;241m.\u001b[39mensure_initialized()\n\u001b[1;32m---> 53\u001b[0m   tensors \u001b[38;5;241m=\u001b[39m pywrap_tfe\u001b[38;5;241m.\u001b[39mTFE_Py_Execute(ctx\u001b[38;5;241m.\u001b[39m_handle, device_name, op_name,\n\u001b[0;32m     54\u001b[0m                                       inputs, attrs, num_outputs)\n\u001b[0;32m     55\u001b[0m \u001b[38;5;28;01mexcept\u001b[39;00m core\u001b[38;5;241m.\u001b[39m_NotOkStatusException \u001b[38;5;28;01mas\u001b[39;00m e:\n\u001b[0;32m     56\u001b[0m   \u001b[38;5;28;01mif\u001b[39;00m name \u001b[38;5;129;01mis\u001b[39;00m \u001b[38;5;129;01mnot\u001b[39;00m \u001b[38;5;28;01mNone\u001b[39;00m:\n",
      "\u001b[1;31mKeyboardInterrupt\u001b[0m: "
     ]
    }
   ],
   "source": [
    "\n",
    "# 假設你已經有了 X_tfidf 和相應的標籤 y\n",
    "input_length = X_tfidf.shape[1]  # 特徵數量\n",
    "\n",
    "# 建立模型\n",
    "input_layer = Input(shape=(input_length, 1))\n",
    "gru_layer = GRU(64, return_sequences=False)(input_layer)\n",
    "output_layer = Dense(1, activation='sigmoid')(gru_layer)\n",
    "\n",
    "model = Model(inputs=input_layer, outputs=output_layer)\n",
    "model.compile(optimizer='adam', loss='binary_crossentropy', metrics=['accuracy'])\n",
    "\n",
    "# 調整數據形狀\n",
    "X_tfidf_reshaped = np.expand_dims(X_tfidf, axis=2)\n",
    "\n",
    "# 拆分數據集\n",
    "X_train, X_test, y_train, y_test = train_test_split(X_tfidf_reshaped, y, test_size=0.3, random_state=42, stratify=y)\n",
    "\n",
    "# 訓練模型\n",
    "history = model.fit(X_train, y_train, epochs=10, batch_size=64, validation_data=(X_test, y_test))\n",
    "\n",
    "# 評估模型\n",
    "results = model.evaluate(X_test, y_test)\n",
    "print(\"Test Loss, Test Accuracy:\", results)"
   ]
  },
  {
   "cell_type": "code",
   "execution_count": 37,
   "metadata": {},
   "outputs": [
    {
     "name": "stdout",
     "output_type": "stream",
     "text": [
      "Epoch 1/10\n",
      "61/61 [==============================] - 2s 7ms/step - loss: 0.4565 - accuracy: 0.8659 - val_loss: 0.4172 - val_accuracy: 0.8660\n",
      "Epoch 2/10\n",
      "61/61 [==============================] - 0s 2ms/step - loss: 0.4147 - accuracy: 0.8659 - val_loss: 0.4115 - val_accuracy: 0.8660\n",
      "Epoch 3/10\n",
      "61/61 [==============================] - 0s 2ms/step - loss: 0.4098 - accuracy: 0.8659 - val_loss: 0.4062 - val_accuracy: 0.8660\n",
      "Epoch 4/10\n",
      "61/61 [==============================] - 0s 2ms/step - loss: 0.4043 - accuracy: 0.8659 - val_loss: 0.4026 - val_accuracy: 0.8660\n",
      "Epoch 5/10\n",
      "61/61 [==============================] - 0s 2ms/step - loss: 0.4005 - accuracy: 0.8659 - val_loss: 0.3982 - val_accuracy: 0.8660\n",
      "Epoch 6/10\n",
      "61/61 [==============================] - 0s 2ms/step - loss: 0.3972 - accuracy: 0.8659 - val_loss: 0.3951 - val_accuracy: 0.8660\n",
      "Epoch 7/10\n",
      "61/61 [==============================] - 0s 2ms/step - loss: 0.3948 - accuracy: 0.8659 - val_loss: 0.3926 - val_accuracy: 0.8660\n",
      "Epoch 8/10\n",
      "61/61 [==============================] - 0s 2ms/step - loss: 0.3924 - accuracy: 0.8659 - val_loss: 0.3905 - val_accuracy: 0.8660\n",
      "Epoch 9/10\n",
      "61/61 [==============================] - 0s 2ms/step - loss: 0.3896 - accuracy: 0.8659 - val_loss: 0.3899 - val_accuracy: 0.8660\n",
      "Epoch 10/10\n",
      "61/61 [==============================] - 0s 2ms/step - loss: 0.3905 - accuracy: 0.8659 - val_loss: 0.3860 - val_accuracy: 0.8660\n",
      "53/53 [==============================] - 0s 942us/step - loss: 0.3860 - accuracy: 0.8660\n",
      "Test Loss, Test Accuracy: [0.3859614431858063, 0.8660287261009216]\n"
     ]
    }
   ],
   "source": [
    "\n",
    "# 假設你已經有了 X_word2vec 和相應的標籤 y\n",
    "input_length = X_word2vec.shape[1]  # 特徵數量\n",
    "X_word2vec_reshaped = np.expand_dims(X_word2vec, axis=1)\n",
    "\n",
    "input_length = X_word2vec.shape[1]  # 特徵數量\n",
    "\n",
    "# 建立模型\n",
    "input_layer = Input(shape=(1, input_length))\n",
    "gru_layer = GRU(64, return_sequences=False)(input_layer)\n",
    "output_layer = Dense(1, activation='sigmoid')(gru_layer)\n",
    "\n",
    "model = Model(inputs=input_layer, outputs=output_layer)\n",
    "model.compile(optimizer='adam', loss='binary_crossentropy', metrics=['accuracy'])\n",
    "\n",
    "# 拆分數據集\n",
    "X_train, X_test, y_train, y_test = train_test_split(X_word2vec_reshaped, y, test_size=0.3, random_state=42, stratify=y)\n",
    "\n",
    "# 訓練模型\n",
    "history = model.fit(X_train, y_train, epochs=10, batch_size=64, validation_data=(X_test, y_test))\n",
    "\n",
    "# 評估模型\n",
    "results = model.evaluate(X_test, y_test)\n",
    "print(\"Test Loss, Test Accuracy:\", results)\n"
   ]
  },
  {
   "cell_type": "markdown",
   "metadata": {},
   "source": [
    "## CNN"
   ]
  },
  {
   "cell_type": "code",
   "execution_count": 117,
   "metadata": {},
   "outputs": [
    {
     "name": "stdout",
     "output_type": "stream",
     "text": [
      "Reshaped TF-IDF shape: (5572, 5000, 1)\n",
      "Epoch 1/10\n",
      "61/61 [==============================] - 18s 279ms/step - loss: 0.6366 - accuracy: 0.6115 - val_loss: 0.5572 - val_accuracy: 0.8660\n",
      "Epoch 2/10\n",
      "61/61 [==============================] - 16s 269ms/step - loss: 0.5377 - accuracy: 0.6951 - val_loss: 0.5043 - val_accuracy: 0.8660\n",
      "Epoch 3/10\n",
      "61/61 [==============================] - 17s 280ms/step - loss: 0.5259 - accuracy: 0.7479 - val_loss: 0.4569 - val_accuracy: 0.8660\n",
      "Epoch 4/10\n",
      "61/61 [==============================] - 17s 275ms/step - loss: 0.5272 - accuracy: 0.6990 - val_loss: 0.4180 - val_accuracy: 0.8660\n",
      "Epoch 5/10\n",
      "61/61 [==============================] - 17s 275ms/step - loss: 0.5186 - accuracy: 0.7179 - val_loss: 0.3831 - val_accuracy: 0.8660\n",
      "Epoch 6/10\n",
      "61/61 [==============================] - 16s 270ms/step - loss: 0.5180 - accuracy: 0.7246 - val_loss: 0.3676 - val_accuracy: 0.8660\n",
      "Epoch 7/10\n",
      "61/61 [==============================] - 16s 269ms/step - loss: 0.5142 - accuracy: 0.7367 - val_loss: 0.4005 - val_accuracy: 0.8660\n",
      "Epoch 8/10\n",
      "61/61 [==============================] - 17s 277ms/step - loss: 0.5185 - accuracy: 0.7467 - val_loss: 0.3561 - val_accuracy: 0.8660\n",
      "Epoch 9/10\n",
      "61/61 [==============================] - 16s 270ms/step - loss: 0.5145 - accuracy: 0.7456 - val_loss: 0.4378 - val_accuracy: 0.8391\n",
      "Epoch 10/10\n",
      "61/61 [==============================] - 17s 276ms/step - loss: 0.5136 - accuracy: 0.7438 - val_loss: 0.3855 - val_accuracy: 0.8852\n",
      "53/53 [==============================] - 1s 22ms/step - loss: 0.3855 - accuracy: 0.8852\n",
      "Test Loss, Test Accuracy: [0.3854562044143677, 0.8851674795150757]\n"
     ]
    }
   ],
   "source": [
    "from sklearn.utils.class_weight import compute_class_weight\n",
    "X_tfidf_reshaped = np.expand_dims(X_tfidf, axis=2) \n",
    "\n",
    "print(\"Reshaped TF-IDF shape:\", X_tfidf_reshaped.shape)\n",
    "\n",
    "class_weights = compute_class_weight('balanced', classes=np.unique(y_train), y=y_train)\n",
    "class_weight_dict = dict(enumerate(class_weights))\n",
    "\n",
    "modelCNNTF = Sequential()\n",
    "modelCNNTF.add(Conv1D(128, 5, activation='relu', input_shape=(X_tfidf_reshaped.shape[1], 1)))\n",
    "modelCNNTF.add(BatchNormalization())\n",
    "modelCNNTF.add(GlobalMaxPooling1D())\n",
    "modelCNNTF.add(Dense(10, activation='relu'))\n",
    "modelCNNTF.add(BatchNormalization())\n",
    "modelCNNTF.add(Dense(1, activation='sigmoid'))\n",
    "\n",
    "modelCNNTF.compile(optimizer='adam', loss='binary_crossentropy', metrics=['accuracy'])\n",
    "\n",
    "\n",
    "X_train, X_test, y_train, y_test = train_test_split(X_tfidf_reshaped, y, test_size=0.3, random_state=1, stratify=y)\n",
    "modelCNNTF.fit(X_train, y_train, epochs=10, batch_size=64, validation_data=(X_test, y_test), class_weight=class_weight_dict)\n",
    "\n",
    "results = modelCNNTF.evaluate(X_test, y_test)\n",
    "print(\"Test Loss, Test Accuracy:\", results)\n"
   ]
  },
  {
   "cell_type": "code",
   "execution_count": 182,
   "metadata": {},
   "outputs": [
    {
     "name": "stdout",
     "output_type": "stream",
     "text": [
      "Epoch 1/10\n",
      "140/140 [==============================] - 1s 5ms/step - loss: 0.6799 - accuracy: 0.7483 - val_loss: 0.6542 - val_accuracy: 0.7641\n",
      "Epoch 2/10\n",
      "140/140 [==============================] - 1s 4ms/step - loss: 0.6693 - accuracy: 0.5647 - val_loss: 0.6961 - val_accuracy: 0.3130\n",
      "Epoch 3/10\n",
      "140/140 [==============================] - 1s 4ms/step - loss: 0.6663 - accuracy: 0.5125 - val_loss: 0.6550 - val_accuracy: 0.5148\n",
      "Epoch 4/10\n",
      "140/140 [==============================] - 1s 4ms/step - loss: 0.6594 - accuracy: 0.5513 - val_loss: 0.7028 - val_accuracy: 0.3148\n",
      "Epoch 5/10\n",
      "140/140 [==============================] - 1s 4ms/step - loss: 0.6580 - accuracy: 0.4680 - val_loss: 0.6873 - val_accuracy: 0.3561\n",
      "Epoch 6/10\n",
      "140/140 [==============================] - 1s 4ms/step - loss: 0.6531 - accuracy: 0.5024 - val_loss: 0.6528 - val_accuracy: 0.4547\n",
      "Epoch 7/10\n",
      "140/140 [==============================] - 1s 4ms/step - loss: 0.6545 - accuracy: 0.4902 - val_loss: 0.6457 - val_accuracy: 0.4368\n",
      "Epoch 8/10\n",
      "140/140 [==============================] - 1s 4ms/step - loss: 0.6517 - accuracy: 0.5257 - val_loss: 0.6636 - val_accuracy: 0.4422\n",
      "Epoch 9/10\n",
      "140/140 [==============================] - 1s 4ms/step - loss: 0.6515 - accuracy: 0.4871 - val_loss: 0.5994 - val_accuracy: 0.5830\n",
      "Epoch 10/10\n",
      "140/140 [==============================] - 1s 4ms/step - loss: 0.6544 - accuracy: 0.4420 - val_loss: 0.6190 - val_accuracy: 0.5291\n",
      "35/35 [==============================] - 0s 1ms/step - loss: 0.6190 - accuracy: 0.5291\n",
      "Test Loss, Test Accuracy: [0.6189853549003601, 0.5291479825973511]\n"
     ]
    }
   ],
   "source": [
    "X_word2vec_reshaped = np.expand_dims(X_word2vec, axis=2)\n",
    "\n",
    "\n",
    "class_weights = compute_class_weight('balanced', classes=np.unique(y_train), y=y_train)\n",
    "class_weight_dict = dict(enumerate(class_weights))\n",
    "\n",
    "modelCNNW2V = Sequential()\n",
    "modelCNNW2V.add(Conv1D(128, 5, activation='relu', input_shape=(X_word2vec_reshaped.shape[1], 1)))\n",
    "modelCNNW2V.add(BatchNormalization())\n",
    "modelCNNW2V.add(GlobalMaxPooling1D())\n",
    "model.add(Dropout(0.2))\n",
    "modelCNNW2V.add(Dense(10, activation='relu'))\n",
    "modelCNNW2V.add(Dense(1, activation='sigmoid'))\n",
    "\n",
    "modelCNNW2V.compile(optimizer='adam', loss='binary_crossentropy', metrics=['accuracy'])\n",
    "\n",
    "# 训练模型\n",
    "X_train, X_test, y_train, y_test = train_test_split(X_word2vec_reshaped, y, test_size=0.2, random_state=1, stratify=y)\n",
    "modelCNNW2V.fit(X_train, y_train, epochs=10, batch_size=32, validation_data=(X_test, y_test), class_weight=class_weight_dict)\n",
    "\n",
    "# 评估模型\n",
    "results = modelCNNW2V.evaluate(X_test, y_test)\n",
    "print(\"Test Loss, Test Accuracy:\", results)\n"
   ]
  },
  {
   "cell_type": "markdown",
   "metadata": {},
   "source": [
    "## SPAM Generation"
   ]
  },
  {
   "cell_type": "code",
   "execution_count": 64,
   "metadata": {},
   "outputs": [],
   "source": [
    "spam_msg = df[df['Label'] == 'spam']['Message']\n",
    "spam_msg = spam_msg.apply(lambda x: x.lower().translate(str.maketrans('', '', string.punctuation)))\n"
   ]
  },
  {
   "cell_type": "code",
   "execution_count": 69,
   "metadata": {},
   "outputs": [],
   "source": [
    "tokenizer = Tokenizer()\n",
    "tokenizer.fit_on_texts(spam_msg)\n",
    "sequences = tokenizer.texts_to_sequences(spam_msg)\n",
    "seq_length = 10\n",
    "\n",
    "train_sequences = []\n",
    "for sequence in sequences:\n",
    "    for i in range(seq_length, len(sequence)):\n",
    "        train_sequences.append(sequence[i-seq_length:i+1])\n",
    "\n",
    "train_sequences = pad_sequences(train_sequences, maxlen=seq_length+1, padding='pre')\n",
    "train_sequences = np.array(train_sequences)\n",
    "X, y = train_sequences[:, :-1], train_sequences[:, -1]\n",
    "y = to_categorical(y, num_classes=len(tokenizer.word_index)+1)\n"
   ]
  },
  {
   "cell_type": "code",
   "execution_count": 70,
   "metadata": {},
   "outputs": [
    {
     "name": "stdout",
     "output_type": "stream",
     "text": [
      "Epoch 1/100\n",
      "42/42 [==============================] - 3s 24ms/step - loss: 7.5025 - accuracy: 0.0291\n",
      "Epoch 2/100\n",
      "42/42 [==============================] - 1s 24ms/step - loss: 6.7655 - accuracy: 0.0330\n",
      "Epoch 3/100\n",
      "42/42 [==============================] - 1s 27ms/step - loss: 6.6148 - accuracy: 0.0330\n",
      "Epoch 4/100\n",
      "42/42 [==============================] - 1s 24ms/step - loss: 6.5182 - accuracy: 0.0332\n",
      "Epoch 5/100\n",
      "42/42 [==============================] - 1s 24ms/step - loss: 6.4169 - accuracy: 0.0332\n",
      "Epoch 6/100\n",
      "42/42 [==============================] - 1s 24ms/step - loss: 6.2741 - accuracy: 0.0336\n",
      "Epoch 7/100\n",
      "42/42 [==============================] - 1s 27ms/step - loss: 6.1228 - accuracy: 0.0362\n",
      "Epoch 8/100\n",
      "42/42 [==============================] - 1s 26ms/step - loss: 6.0026 - accuracy: 0.0404\n",
      "Epoch 9/100\n",
      "42/42 [==============================] - 1s 27ms/step - loss: 5.8859 - accuracy: 0.0409\n",
      "Epoch 10/100\n",
      "42/42 [==============================] - 1s 25ms/step - loss: 5.7891 - accuracy: 0.0417\n",
      "Epoch 11/100\n",
      "42/42 [==============================] - 1s 25ms/step - loss: 5.6777 - accuracy: 0.0449\n",
      "Epoch 12/100\n",
      "42/42 [==============================] - 1s 25ms/step - loss: 5.5590 - accuracy: 0.0453\n",
      "Epoch 13/100\n",
      "42/42 [==============================] - 1s 27ms/step - loss: 5.3717 - accuracy: 0.0532\n",
      "Epoch 14/100\n",
      "42/42 [==============================] - 1s 28ms/step - loss: 5.1807 - accuracy: 0.0594\n",
      "Epoch 15/100\n",
      "42/42 [==============================] - 1s 27ms/step - loss: 5.0146 - accuracy: 0.0606\n",
      "Epoch 16/100\n",
      "42/42 [==============================] - 1s 30ms/step - loss: 4.8318 - accuracy: 0.0698\n",
      "Epoch 17/100\n",
      "42/42 [==============================] - 1s 31ms/step - loss: 4.6558 - accuracy: 0.0760\n",
      "Epoch 18/100\n",
      "42/42 [==============================] - 1s 29ms/step - loss: 4.4466 - accuracy: 0.0949\n",
      "Epoch 19/100\n",
      "42/42 [==============================] - 1s 29ms/step - loss: 4.2352 - accuracy: 0.1038\n",
      "Epoch 20/100\n",
      "42/42 [==============================] - 1s 31ms/step - loss: 4.0470 - accuracy: 0.1213\n",
      "Epoch 21/100\n",
      "42/42 [==============================] - 1s 28ms/step - loss: 3.7986 - accuracy: 0.1509\n",
      "Epoch 22/100\n",
      "42/42 [==============================] - 1s 31ms/step - loss: 3.5901 - accuracy: 0.1741\n",
      "Epoch 23/100\n",
      "42/42 [==============================] - 1s 30ms/step - loss: 3.3798 - accuracy: 0.2120\n",
      "Epoch 24/100\n",
      "42/42 [==============================] - 1s 28ms/step - loss: 3.1606 - accuracy: 0.2417\n",
      "Epoch 25/100\n",
      "42/42 [==============================] - 1s 29ms/step - loss: 2.9884 - accuracy: 0.2752\n",
      "Epoch 26/100\n",
      "42/42 [==============================] - 1s 30ms/step - loss: 2.8107 - accuracy: 0.3113\n",
      "Epoch 27/100\n",
      "42/42 [==============================] - 1s 28ms/step - loss: 2.6403 - accuracy: 0.3337\n",
      "Epoch 28/100\n",
      "42/42 [==============================] - 1s 29ms/step - loss: 2.4606 - accuracy: 0.3707\n",
      "Epoch 29/100\n",
      "42/42 [==============================] - 1s 28ms/step - loss: 2.3222 - accuracy: 0.3986\n",
      "Epoch 30/100\n",
      "42/42 [==============================] - 1s 30ms/step - loss: 2.2162 - accuracy: 0.4286\n",
      "Epoch 31/100\n",
      "42/42 [==============================] - 1s 31ms/step - loss: 2.0634 - accuracy: 0.4614\n",
      "Epoch 32/100\n",
      "42/42 [==============================] - 1s 29ms/step - loss: 1.9253 - accuracy: 0.4980\n",
      "Epoch 33/100\n",
      "42/42 [==============================] - 1s 30ms/step - loss: 1.8204 - accuracy: 0.5231\n",
      "Epoch 34/100\n",
      "42/42 [==============================] - 1s 27ms/step - loss: 1.7280 - accuracy: 0.5427\n",
      "Epoch 35/100\n",
      "42/42 [==============================] - 1s 29ms/step - loss: 1.6049 - accuracy: 0.5778\n",
      "Epoch 36/100\n",
      "42/42 [==============================] - 1s 30ms/step - loss: 1.4736 - accuracy: 0.6159\n",
      "Epoch 37/100\n",
      "42/42 [==============================] - 1s 30ms/step - loss: 1.3884 - accuracy: 0.6355\n",
      "Epoch 38/100\n",
      "42/42 [==============================] - 1s 35ms/step - loss: 1.2810 - accuracy: 0.6631\n",
      "Epoch 39/100\n",
      "42/42 [==============================] - 1s 34ms/step - loss: 1.1875 - accuracy: 0.6884\n",
      "Epoch 40/100\n",
      "42/42 [==============================] - 1s 31ms/step - loss: 1.1197 - accuracy: 0.7072\n",
      "Epoch 41/100\n",
      "42/42 [==============================] - 1s 29ms/step - loss: 1.0213 - accuracy: 0.7391\n",
      "Epoch 42/100\n",
      "42/42 [==============================] - 1s 35ms/step - loss: 0.9345 - accuracy: 0.7665\n",
      "Epoch 43/100\n",
      "42/42 [==============================] - 2s 39ms/step - loss: 0.8881 - accuracy: 0.7785\n",
      "Epoch 44/100\n",
      "42/42 [==============================] - 1s 32ms/step - loss: 0.8105 - accuracy: 0.8025\n",
      "Epoch 45/100\n",
      "42/42 [==============================] - 1s 30ms/step - loss: 0.7814 - accuracy: 0.8017\n",
      "Epoch 46/100\n",
      "42/42 [==============================] - 2s 46ms/step - loss: 0.7310 - accuracy: 0.8164\n",
      "Epoch 47/100\n",
      "42/42 [==============================] - 2s 47ms/step - loss: 0.7078 - accuracy: 0.8151\n",
      "Epoch 48/100\n",
      "42/42 [==============================] - 2s 46ms/step - loss: 0.6460 - accuracy: 0.8406\n",
      "Epoch 49/100\n",
      "42/42 [==============================] - 2s 47ms/step - loss: 0.5945 - accuracy: 0.8561\n",
      "Epoch 50/100\n",
      "42/42 [==============================] - 2s 47ms/step - loss: 0.5358 - accuracy: 0.8681\n",
      "Epoch 51/100\n",
      "42/42 [==============================] - 2s 46ms/step - loss: 0.4875 - accuracy: 0.8866\n",
      "Epoch 52/100\n",
      "42/42 [==============================] - 2s 48ms/step - loss: 0.4371 - accuracy: 0.8998\n",
      "Epoch 53/100\n",
      "42/42 [==============================] - 2s 47ms/step - loss: 0.4110 - accuracy: 0.9076\n",
      "Epoch 54/100\n",
      "42/42 [==============================] - 2s 44ms/step - loss: 0.3631 - accuracy: 0.9185\n",
      "Epoch 55/100\n",
      "42/42 [==============================] - 2s 45ms/step - loss: 0.3199 - accuracy: 0.9308\n",
      "Epoch 56/100\n",
      "42/42 [==============================] - 2s 44ms/step - loss: 0.3037 - accuracy: 0.9319\n",
      "Epoch 57/100\n",
      "42/42 [==============================] - 2s 45ms/step - loss: 0.2832 - accuracy: 0.9383\n",
      "Epoch 58/100\n",
      "42/42 [==============================] - 2s 45ms/step - loss: 0.2860 - accuracy: 0.9374\n",
      "Epoch 59/100\n",
      "42/42 [==============================] - 2s 45ms/step - loss: 0.2798 - accuracy: 0.9374\n",
      "Epoch 60/100\n",
      "42/42 [==============================] - 2s 46ms/step - loss: 0.2737 - accuracy: 0.9342\n",
      "Epoch 61/100\n",
      "42/42 [==============================] - 2s 45ms/step - loss: 0.2723 - accuracy: 0.9366\n",
      "Epoch 62/100\n",
      "42/42 [==============================] - 2s 45ms/step - loss: 0.2601 - accuracy: 0.9402\n",
      "Epoch 63/100\n",
      "42/42 [==============================] - 2s 45ms/step - loss: 0.2622 - accuracy: 0.9389\n",
      "Epoch 64/100\n",
      "42/42 [==============================] - 2s 45ms/step - loss: 0.2484 - accuracy: 0.9413\n",
      "Epoch 65/100\n",
      "42/42 [==============================] - 2s 46ms/step - loss: 0.2163 - accuracy: 0.9519\n",
      "Epoch 66/100\n",
      "42/42 [==============================] - 2s 47ms/step - loss: 0.2014 - accuracy: 0.9549\n",
      "Epoch 67/100\n",
      "42/42 [==============================] - 2s 47ms/step - loss: 0.1867 - accuracy: 0.9594\n",
      "Epoch 68/100\n",
      "42/42 [==============================] - 2s 45ms/step - loss: 0.1554 - accuracy: 0.9685\n",
      "Epoch 69/100\n",
      "42/42 [==============================] - 2s 48ms/step - loss: 0.1337 - accuracy: 0.9734\n",
      "Epoch 70/100\n",
      "42/42 [==============================] - 2s 48ms/step - loss: 0.1197 - accuracy: 0.9743\n",
      "Epoch 71/100\n",
      "42/42 [==============================] - 2s 46ms/step - loss: 0.1172 - accuracy: 0.9751\n",
      "Epoch 72/100\n",
      "42/42 [==============================] - 2s 46ms/step - loss: 0.1031 - accuracy: 0.9794\n",
      "Epoch 73/100\n",
      "42/42 [==============================] - 2s 45ms/step - loss: 0.1021 - accuracy: 0.9779\n",
      "Epoch 74/100\n",
      "42/42 [==============================] - 2s 44ms/step - loss: 0.0893 - accuracy: 0.9823\n",
      "Epoch 75/100\n",
      "42/42 [==============================] - 2s 44ms/step - loss: 0.0844 - accuracy: 0.9794\n",
      "Epoch 76/100\n",
      "42/42 [==============================] - 2s 43ms/step - loss: 0.0844 - accuracy: 0.9813\n",
      "Epoch 77/100\n",
      "42/42 [==============================] - 2s 47ms/step - loss: 0.0830 - accuracy: 0.9828\n",
      "Epoch 78/100\n",
      "42/42 [==============================] - 2s 44ms/step - loss: 0.0769 - accuracy: 0.9813\n",
      "Epoch 79/100\n",
      "42/42 [==============================] - 1s 26ms/step - loss: 0.0716 - accuracy: 0.9826\n",
      "Epoch 80/100\n",
      "42/42 [==============================] - 1s 26ms/step - loss: 0.0706 - accuracy: 0.9828\n",
      "Epoch 81/100\n",
      "42/42 [==============================] - 1s 27ms/step - loss: 0.0691 - accuracy: 0.9811\n",
      "Epoch 82/100\n",
      "42/42 [==============================] - 1s 26ms/step - loss: 0.0694 - accuracy: 0.9821\n",
      "Epoch 83/100\n",
      "42/42 [==============================] - 1s 26ms/step - loss: 0.1343 - accuracy: 0.9651\n",
      "Epoch 84/100\n",
      "42/42 [==============================] - 1s 27ms/step - loss: 0.5287 - accuracy: 0.8587\n",
      "Epoch 85/100\n",
      "42/42 [==============================] - 1s 26ms/step - loss: 1.2880 - accuracy: 0.6553\n",
      "Epoch 86/100\n",
      "42/42 [==============================] - 1s 26ms/step - loss: 1.0017 - accuracy: 0.7280\n",
      "Epoch 87/100\n",
      "42/42 [==============================] - 1s 27ms/step - loss: 0.5089 - accuracy: 0.8523\n",
      "Epoch 88/100\n",
      "42/42 [==============================] - 1s 26ms/step - loss: 0.2468 - accuracy: 0.9313\n",
      "Epoch 89/100\n",
      "42/42 [==============================] - 1s 27ms/step - loss: 0.1455 - accuracy: 0.9628\n",
      "Epoch 90/100\n",
      "42/42 [==============================] - 1s 26ms/step - loss: 0.0966 - accuracy: 0.9762\n",
      "Epoch 91/100\n",
      "42/42 [==============================] - 1s 26ms/step - loss: 0.0760 - accuracy: 0.9819\n",
      "Epoch 92/100\n",
      "42/42 [==============================] - 1s 27ms/step - loss: 0.0653 - accuracy: 0.9821\n",
      "Epoch 93/100\n",
      "42/42 [==============================] - 1s 26ms/step - loss: 0.0600 - accuracy: 0.9826\n",
      "Epoch 94/100\n",
      "42/42 [==============================] - 1s 27ms/step - loss: 0.0585 - accuracy: 0.9836\n",
      "Epoch 95/100\n",
      "42/42 [==============================] - 1s 27ms/step - loss: 0.0571 - accuracy: 0.9836\n",
      "Epoch 96/100\n",
      "42/42 [==============================] - 1s 26ms/step - loss: 0.0554 - accuracy: 0.9819\n",
      "Epoch 97/100\n",
      "42/42 [==============================] - 1s 27ms/step - loss: 0.0533 - accuracy: 0.9842\n",
      "Epoch 98/100\n",
      "42/42 [==============================] - 1s 26ms/step - loss: 0.0525 - accuracy: 0.9843\n",
      "Epoch 99/100\n",
      "42/42 [==============================] - 1s 26ms/step - loss: 0.0519 - accuracy: 0.9830\n",
      "Epoch 100/100\n",
      "42/42 [==============================] - 1s 27ms/step - loss: 0.0500 - accuracy: 0.9830\n"
     ]
    },
    {
     "data": {
      "text/plain": [
       "<keras.src.callbacks.History at 0x2059aa3a810>"
      ]
     },
     "execution_count": 70,
     "metadata": {},
     "output_type": "execute_result"
    }
   ],
   "source": [
    "\n",
    "Vsize = len(tokenizer.word_index) + 1\n",
    "\n",
    "modelSPAM = Sequential()\n",
    "modelSPAM.add(Embedding(Vsize, 50, input_length=seq_length))\n",
    "modelSPAM.add(LSTM(150, return_sequences=True))\n",
    "modelSPAM.add(LSTM(150))\n",
    "modelSPAM.add(Dense(150, activation='relu'))\n",
    "modelSPAM.add(Dense(Vsize, activation='softmax'))\n",
    "\n",
    "modelSPAM.compile(loss='categorical_crossentropy', optimizer='adam', metrics=['accuracy'])\n",
    "modelSPAM.fit(X, y, batch_size=128, epochs=100)"
   ]
  },
  {
   "cell_type": "code",
   "execution_count": 80,
   "metadata": {},
   "outputs": [
    {
     "name": "stdout",
     "output_type": "stream",
     "text": [
      "Total generated texts: 100\n",
      "['16 text text send reply club get 83110 83110 87121', 'text november text 25p gift send tones every classic ltd', 'na na wc1n3xx luv reply xx evening sexy minapn rply', 'gift text mins mins £100 charged 0870141701216 £1million 82277 6wu', '0207 send ts cs operator per reply stop end stop', '16 text text send reply club get 83110 83110 87121 burger text 09065069120 adult meet aom england cam correct website', 'text november text 25p gift send tones every classic ltd n 87121 18yrs fun entry get std txt revealed txt', 'na na wc1n3xx luv reply xx evening sexy minapn rply 3mins wc1n3xx 09065989180 bill httpimg fancy giv trywales dream lccltd', 'gift text mins mins £100 charged 0870141701216 £1million 82277 6wu 6wu 7zs good order hot mk45 mk45 cumin 3aj php', '0207 send ts cs operator per reply stop end stop txts info rate text 83355 httpimg 32323 mk45 mk45 2wt']\n"
     ]
    }
   ],
   "source": [
    "def generate_text(model, tokenizer, seq_length, seed_text, num_gen_words):\n",
    "    output_text = []\n",
    "    input_text = seed_text\n",
    "    for _ in range(num_gen_words):\n",
    "        encoded = tokenizer.texts_to_sequences([input_text])[0]\n",
    "        encoded = pad_sequences([encoded], maxlen=seq_length, truncating='pre')\n",
    "        \n",
    "        # 使用 model.predict 获取预测结果，并使用 np.argmax 找到最可能的类别索引\n",
    "        predictions = model.predict(encoded, verbose=0)\n",
    "        pred_word_index = np.argmax(predictions, axis=-1)[0]\n",
    "        pred_word = tokenizer.index_word.get(pred_word_index, '')\n",
    "        \n",
    "        input_text += ' ' + pred_word\n",
    "        output_text.append(pred_word)\n",
    "    \n",
    "    return ' '.join(output_text)\n",
    "\n",
    "# 生成新的 SPAM-like 邮件\n",
    "generated_texts = []\n",
    "seed_texts = [\n",
    "    \"Today is Jimmy's birthday\",\n",
    "    \"winner winner chicken dinner\",\n",
    "    \"How can I save a brokenheart within me\",\n",
    "    \"Oh girl why you leave me so high to leave me so low, to leave me solo\",\n",
    "    \"Oh why, I'm wasting my time, waiting for your call, but damn your so cold\"\n",
    "    ]\n",
    "for seed in seed_texts:\n",
    "    new_text = generate_text(model, tokenizer, seq_length, seed, 10)  # 这里生成每条文本的长度为20个单词\n",
    "    generated_texts.append(new_text)\n",
    "while len(generated_texts) < 100:\n",
    "    for seed in seed_texts:\n",
    "        new_text = generate_text(model, tokenizer, seq_length, seed, 20)\n",
    "        generated_texts.append(new_text)\n",
    "        if len(generated_texts) >= 100:\n",
    "            break\n",
    "\n",
    "print(\"Total generated texts:\", len(generated_texts))\n",
    "print(generated_texts[:10])  \n"
   ]
  },
  {
   "cell_type": "markdown",
   "metadata": {},
   "source": [
    "## SPAM testing"
   ]
  },
  {
   "cell_type": "code",
   "execution_count": 84,
   "metadata": {},
   "outputs": [
    {
     "name": "stdout",
     "output_type": "stream",
     "text": [
      "['16 text text send reply club get 83110 83110 87121', 'text november text 25p gift send tones every classic ltd', 'na na wc1n3xx luv reply xx evening sexy minapn rply', 'gift text mins mins £100 charged 0870141701216 £1million 82277 6wu', '0207 send ts cs operator per reply stop end stop']\n"
     ]
    }
   ],
   "source": [
    "## preprocess\n",
    "def preprocess(new_text):\n",
    "    new_text = new_text.lower()\n",
    "    new_text = new_text.translate(str.maketrans('', '', string.punctuation))\n",
    "    tokens = word_tokenize(new_text)\n",
    "\n",
    "    stop = set(stopwords.words('english'))\n",
    "    tokens = [word for word in tokens if word not in stop]\n",
    "\n",
    "    new_text = ' '.join(tokens)\n",
    "    return new_text\n",
    "\n",
    "processed_texts = [preprocess(text) for text in generated_texts]\n",
    "\n",
    "# 打印前5条预处理后的文本\n",
    "print(processed_texts[:5])"
   ]
  },
  {
   "cell_type": "code",
   "execution_count": 89,
   "metadata": {},
   "outputs": [],
   "source": [
    "def vectorize_text(text, model):\n",
    "    words = text.split()\n",
    "    word_vectors = [model.wv[word] for word in words if word in model.wv]\n",
    "    if len(word_vectors) == 0:\n",
    "        return np.zeros(model.vector_size)\n",
    "    else:\n",
    "        return np.mean(word_vectors, axis=0)\n",
    "\n",
    "processed_texts_word2vec = np.array([vectorize_text(text, word2vec_model) for text in processed_texts])\n",
    "processed_texts_tfidf = tfidf_vectorizer.transform(processed_texts)"
   ]
  },
  {
   "cell_type": "code",
   "execution_count": 100,
   "metadata": {},
   "outputs": [
    {
     "name": "stdout",
     "output_type": "stream",
     "text": [
      "              precision    recall  f1-score   support\n",
      "\n",
      "           0       0.00      0.00      0.00         0\n",
      "           1       1.00      0.39      0.56       100\n",
      "\n",
      "    accuracy                           0.39       100\n",
      "   macro avg       0.50      0.20      0.28       100\n",
      "weighted avg       1.00      0.39      0.56       100\n",
      "\n"
     ]
    }
   ],
   "source": [
    "RF_pred_tfidf = rf_classifier.predict(processed_texts_tfidf)\n",
    "\n",
    "true_labels = [1] * len(processed_texts)\n",
    "print(classification_report(true_labels, RF_pred_tfidf))\n"
   ]
  },
  {
   "cell_type": "code",
   "execution_count": 104,
   "metadata": {},
   "outputs": [
    {
     "name": "stdout",
     "output_type": "stream",
     "text": [
      "              precision    recall  f1-score   support\n",
      "\n",
      "           0       0.00      0.00      0.00         0\n",
      "           1       1.00      0.39      0.56       100\n",
      "\n",
      "    accuracy                           0.39       100\n",
      "   macro avg       0.50      0.20      0.28       100\n",
      "weighted avg       1.00      0.39      0.56       100\n",
      "\n"
     ]
    }
   ],
   "source": [
    "RF_pred_word2vec = rf_classifier.predict(processed_texts_word2vec)\n",
    "print(classification_report(true_labels, RF_pred_tfidf))"
   ]
  },
  {
   "cell_type": "code",
   "execution_count": 118,
   "metadata": {},
   "outputs": [
    {
     "name": "stdout",
     "output_type": "stream",
     "text": [
      "4/4 [==============================] - 0s 17ms/step\n",
      "              precision    recall  f1-score   support\n",
      "\n",
      "           0       0.00      0.00      0.00         0\n",
      "           1       1.00      0.19      0.32       100\n",
      "\n",
      "    accuracy                           0.19       100\n",
      "   macro avg       0.50      0.10      0.16       100\n",
      "weighted avg       1.00      0.19      0.32       100\n",
      "\n",
      "Accuracy: 0.19\n"
     ]
    }
   ],
   "source": [
    "processed_texts_tfidf_reshaped = np.expand_dims(processed_texts_tfidf.toarray(), axis=2)  # 增加一个维度\n",
    "predicted_labels = modelCNNTF.predict(processed_texts_tfidf_reshaped)\n",
    "predicted_labels = (predicted_labels > 0.5).astype(int).flatten()\n",
    "print(classification_report(true_labels, predicted_labels))\n",
    "print(\"Accuracy:\", accuracy_score(true_labels, predicted_labels))"
   ]
  },
  {
   "cell_type": "code",
   "execution_count": 183,
   "metadata": {},
   "outputs": [
    {
     "name": "stdout",
     "output_type": "stream",
     "text": [
      "4/4 [==============================] - 0s 2ms/step\n",
      "              precision    recall  f1-score   support\n",
      "\n",
      "           0       0.00      0.00      0.00         0\n",
      "           1       1.00      0.41      0.58       100\n",
      "\n",
      "    accuracy                           0.41       100\n",
      "   macro avg       0.50      0.20      0.29       100\n",
      "weighted avg       1.00      0.41      0.58       100\n",
      "\n",
      "Accuracy: 0.41\n"
     ]
    }
   ],
   "source": [
    "processed_texts_word2vec_reshaped = np.expand_dims(processed_texts_word2vec, axis=2)\n",
    "predicted_labels = modelCNNW2V.predict(processed_texts_word2vec_reshaped)\n",
    "predicted_labels = (predicted_labels > 0.5).astype(int).flatten()\n",
    "print(classification_report(true_labels, predicted_labels))\n",
    "print(\"Accuracy:\", accuracy_score(true_labels, predicted_labels))"
   ]
  },
  {
   "cell_type": "code",
   "execution_count": null,
   "metadata": {},
   "outputs": [],
   "source": []
  }
 ],
 "metadata": {
  "kernelspec": {
   "display_name": "base",
   "language": "python",
   "name": "python3"
  },
  "language_info": {
   "codemirror_mode": {
    "name": "ipython",
    "version": 3
   },
   "file_extension": ".py",
   "mimetype": "text/x-python",
   "name": "python",
   "nbconvert_exporter": "python",
   "pygments_lexer": "ipython3",
   "version": "3.11.5"
  }
 },
 "nbformat": 4,
 "nbformat_minor": 2
}
